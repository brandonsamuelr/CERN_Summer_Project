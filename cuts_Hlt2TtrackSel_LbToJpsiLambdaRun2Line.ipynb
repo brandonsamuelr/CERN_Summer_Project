{
 "cells": [
  {
   "cell_type": "code",
   "execution_count": 1,
   "id": "5a6eab6a",
   "metadata": {},
   "outputs": [
    {
     "name": "stdout",
     "output_type": "stream",
     "text": [
      "Welcome to JupyROOT 6.26/04\n"
     ]
    }
   ],
   "source": [
    "import ROOT\n",
    "import numpy as np\n",
    "import uproot\n",
    "import pandas as pd\n",
    "from matplotlib import pyplot as plt\n",
    "from tabulate import tabulate\n",
    "%matplotlib inline\n"
   ]
  },
  {
   "cell_type": "code",
   "execution_count": null,
   "id": "14d114d9",
   "metadata": {},
   "outputs": [],
   "source": []
  },
  {
   "cell_type": "code",
   "execution_count": 25,
   "id": "ebd5f7b1",
   "metadata": {},
   "outputs": [],
   "source": [
    "tree1 = ROOT.TChain(\"Hlt2TtrackSel_LbToJpsiLambdaRun2LineTuple/Tuple\")\n",
    "tree1.Add(\"all_together_big.root\")\n",
    "\n",
    "#events = uproot.open('all_together_big.root:Hlt2TtrackSel_LbToJpsiLambdaRun2LineTuple/Tuple')\n",
    "events = uproot.open(\"/eos/user/i/isanders/public_lhcb/data/all_together_big.root:Hlt2TtrackSel_LbToJpsiLambdaRun2LineTuple/Tuple\")\n",
    "\n",
    "minbias = uproot.open('/eos/user/i/isanders/public_lhcb/data/all_together_minbias.root:Hlt2TtrackSel_LbToJpsiLambdaRun2LineTuple/Tuple')"
   ]
  },
  {
   "cell_type": "code",
   "execution_count": 26,
   "id": "dcdc7bc0",
   "metadata": {},
   "outputs": [],
   "source": [
    "\n",
    "minbias_data = minbias.arrays([ \n",
    " \n",
    " 'p_plus_PID_P',\n",
    " 'p_plus_PID_K',\n",
    " 'p_plus_P',\n",
    " 'p_plus_PT',\n",
    " 'p_plus_ETA',\n",
    " 'p_plus_NFTHITS', \n",
    " 'p_plus_GHOSTPROB',\n",
    " 'EVENTNUMBER',\n",
    "\n",
    "\n",
    "\n",
    " 'pi_minus_P',\n",
    " 'pi_minus_PT',\n",
    " 'pi_minus_ETA',\n",
    " 'pi_minus_NFTHITS', \n",
    " 'pi_minus_GHOSTPROB',\n",
    " \n",
    "\n",
    "    \n",
    "\n",
    "    \n",
    " 'Lambda0_END_VZ',\n",
    " 'Lambda0_BPVCORRM',\n",
    " 'Lambda0_BPVDIRA',\n",
    " 'Lambda0_BPVIPCHI2',\n",
    " 'Lambda0_BPVLTIME',\n",
    " 'Lambda0_BPVFD',\n",
    " 'Lambda0_BPVIP',\n",
    " 'Lambda0_BPVVDRHO',\n",
    " 'Lambda0_MAXSDOCA',\n",
    " 'Lambda0_MAXSDOCACHI2',\n",
    " 'Lambda0_MASS',\n",
    " 'Lambda0_P',\n",
    " 'Lambda0_PT',\n",
    " 'Lambda0_ETA',\n",
    " 'Lambda0_CHI2',\n",
    "  \n",
    " 'Lb_BPVCORRM',\n",
    " 'Lb_BPVDIRA',\n",
    " 'Lb_BPVIPCHI2',\n",
    " 'Lb_BPVIP',\n",
    " 'Lb_MAXSDOCA',\n",
    " 'Lb_MAXSDOCACHI2',\n",
    " 'Lb_CHI2',\n",
    " 'Lb_PT',\n",
    " 'Lb_MASS'],\n",
    "    \n",
    " library = 'pd' )\n",
    "\n",
    "\n",
    "\n"
   ]
  },
  {
   "cell_type": "code",
   "execution_count": 27,
   "id": "2446390e",
   "metadata": {},
   "outputs": [],
   "source": [
    "bkg_data = events.arrays([ \n",
    " 'p_plus_PID_P',\n",
    " 'p_plus_PID_K',\n",
    " 'p_plus_P',\n",
    " 'p_plus_PT',\n",
    " 'p_plus_ETA',\n",
    " 'p_plus_NFTHITS', \n",
    " 'p_plus_GHOSTPROB',\n",
    " 'EVENTNUMBER',\n",
    "\n",
    "\n",
    "\n",
    " 'pi_minus_P',\n",
    " 'pi_minus_PT',\n",
    " 'pi_minus_ETA',\n",
    " 'pi_minus_NFTHITS', \n",
    " 'pi_minus_GHOSTPROB',\n",
    " \n",
    "\n",
    "    \n",
    "\n",
    "    \n",
    " 'Lambda0_END_VZ',\n",
    " 'Lambda0_BPVCORRM',\n",
    " 'Lambda0_BPVDIRA',\n",
    " 'Lambda0_BPVIPCHI2',\n",
    " 'Lambda0_BPVLTIME',\n",
    " 'Lambda0_BPVFD',\n",
    " 'Lambda0_BPVIP',\n",
    " 'Lambda0_BPVVDRHO',\n",
    " 'Lambda0_MAXSDOCA',\n",
    " 'Lambda0_MAXSDOCACHI2',\n",
    " 'Lambda0_MASS',\n",
    " 'Lambda0_P',\n",
    " 'Lambda0_PT',\n",
    " 'Lambda0_ETA',\n",
    " 'Lambda0_CHI2', 'Lb_BPVCORRM',\n",
    " 'Lb_BPVDIRA',\n",
    " 'Lb_BPVIPCHI2',\n",
    " 'Lb_BPVIP',\n",
    " 'Lb_MAXSDOCA',\n",
    " 'Lb_MAXSDOCACHI2',\n",
    " 'Lb_CHI2', 'Lb_PT', 'Lb_MASS'], cut = 'Lb_BKGCAT != 0', library = 'pd')"
   ]
  },
  {
   "cell_type": "code",
   "execution_count": 99,
   "id": "88144ae6",
   "metadata": {},
   "outputs": [],
   "source": [
    "bkg_data_ppl = events.arrays([ \n",
    " 'p_plus_PID_P',\n",
    " 'p_plus_PID_K',\n",
    " 'p_plus_P',\n",
    " 'p_plus_PT',\n",
    " 'p_plus_ETA',\n",
    " 'p_plus_NFTHITS', \n",
    " 'p_plus_GHOSTPROB',\n",
    "\n",
    "\n",
    "\n",
    " 'pi_minus_P',\n",
    " 'pi_minus_PT',\n",
    " 'pi_minus_ETA',\n",
    " 'pi_minus_NFTHITS', \n",
    " 'pi_minus_GHOSTPROB',\n",
    " \n",
    "\n",
    "    \n",
    "\n",
    "    \n",
    " 'Lambda0_END_VZ',\n",
    " 'Lambda0_BPVCORRM',\n",
    " 'Lambda0_BPVDIRA',\n",
    " 'Lambda0_BPVIPCHI2',\n",
    " 'Lambda0_BPVLTIME',\n",
    " 'Lambda0_BPVFD',\n",
    " 'Lambda0_BPVIP',\n",
    " 'Lambda0_BPVVDRHO',\n",
    " 'Lambda0_MAXSDOCA',\n",
    " 'Lambda0_MAXSDOCACHI2',\n",
    " 'Lambda0_MASS',\n",
    " 'Lambda0_P',\n",
    " 'Lambda0_PT',\n",
    " 'Lambda0_ETA',\n",
    " 'Lambda0_CHI2'], cut = 'Lambda0_BKGCAT != 0', library = 'pd' )"
   ]
  },
  {
   "cell_type": "code",
   "execution_count": 28,
   "id": "aa0f6b94",
   "metadata": {},
   "outputs": [],
   "source": [
    "signal_data = events.arrays([\n",
    " 'p_plus_PID_P',\n",
    " 'p_plus_PID_K',\n",
    " 'p_plus_P',\n",
    " 'p_plus_PT',\n",
    " 'p_plus_ETA',\n",
    " 'p_plus_NFTHITS', \n",
    " 'p_plus_GHOSTPROB',\n",
    " 'EVENTNUMBER',\n",
    "\n",
    "\n",
    "\n",
    " 'pi_minus_P',\n",
    " 'pi_minus_PT',\n",
    " 'pi_minus_ETA',\n",
    " 'pi_minus_NFTHITS', \n",
    " 'pi_minus_GHOSTPROB',\n",
    " \n",
    "\n",
    "    \n",
    "\n",
    "    \n",
    " 'Lambda0_END_VZ',\n",
    " 'Lambda0_BPVCORRM',\n",
    " 'Lambda0_BPVDIRA',\n",
    " 'Lambda0_BPVIPCHI2',\n",
    " 'Lambda0_BPVLTIME',\n",
    " 'Lambda0_BPVFD',\n",
    " 'Lambda0_BPVIP',\n",
    " 'Lambda0_BPVVDRHO',\n",
    " 'Lambda0_MAXSDOCA',\n",
    " 'Lambda0_MAXSDOCACHI2',\n",
    " 'Lambda0_MASS',\n",
    " 'Lambda0_P',\n",
    " 'Lambda0_PT',\n",
    " 'Lambda0_ETA',\n",
    " 'Lambda0_CHI2',\n",
    " 'Lb_BPVCORRM',\n",
    " 'Lb_BPVDIRA',\n",
    " 'Lb_BPVIPCHI2',\n",
    " 'Lb_BPVIP',\n",
    " 'Lb_MAXSDOCA',\n",
    " 'Lb_MAXSDOCACHI2',\n",
    " 'Lb_CHI2', 'Lb_PT', 'Lb_MASS'], cut = 'Lb_BKGCAT == 0', library = 'pd' )\n",
    "\n",
    "\n",
    "\n"
   ]
  },
  {
   "cell_type": "code",
   "execution_count": 35,
   "id": "521b1f6f",
   "metadata": {},
   "outputs": [
    {
     "data": {
      "text/html": [
       "<div>\n",
       "<style scoped>\n",
       "    .dataframe tbody tr th:only-of-type {\n",
       "        vertical-align: middle;\n",
       "    }\n",
       "\n",
       "    .dataframe tbody tr th {\n",
       "        vertical-align: top;\n",
       "    }\n",
       "\n",
       "    .dataframe thead th {\n",
       "        text-align: right;\n",
       "    }\n",
       "</style>\n",
       "<table border=\"1\" class=\"dataframe\">\n",
       "  <thead>\n",
       "    <tr style=\"text-align: right;\">\n",
       "      <th></th>\n",
       "      <th>p_plus_PID_P</th>\n",
       "      <th>p_plus_PID_K</th>\n",
       "      <th>p_plus_P</th>\n",
       "      <th>p_plus_PT</th>\n",
       "      <th>p_plus_ETA</th>\n",
       "      <th>p_plus_NFTHITS</th>\n",
       "      <th>p_plus_GHOSTPROB</th>\n",
       "      <th>pi_minus_P</th>\n",
       "      <th>pi_minus_PT</th>\n",
       "      <th>pi_minus_ETA</th>\n",
       "      <th>...</th>\n",
       "      <th>Lambda0_CHI2</th>\n",
       "      <th>Lb_BPVCORRM</th>\n",
       "      <th>Lb_BPVDIRA</th>\n",
       "      <th>Lb_BPVIPCHI2</th>\n",
       "      <th>Lb_BPVIP</th>\n",
       "      <th>Lb_MAXSDOCA</th>\n",
       "      <th>Lb_MAXSDOCACHI2</th>\n",
       "      <th>Lb_CHI2</th>\n",
       "      <th>Lb_PT</th>\n",
       "      <th>Lb_MASS</th>\n",
       "    </tr>\n",
       "  </thead>\n",
       "  <tbody>\n",
       "    <tr>\n",
       "      <th>1708</th>\n",
       "      <td>22.539282</td>\n",
       "      <td>3.836536</td>\n",
       "      <td>41038.832031</td>\n",
       "      <td>3289.901611</td>\n",
       "      <td>3.215173</td>\n",
       "      <td>12</td>\n",
       "      <td>0.000545</td>\n",
       "      <td>6566.583984</td>\n",
       "      <td>430.458069</td>\n",
       "      <td>3.416897</td>\n",
       "      <td>...</td>\n",
       "      <td>0.157911</td>\n",
       "      <td>11564.919922</td>\n",
       "      <td>0.999434</td>\n",
       "      <td>12.885532</td>\n",
       "      <td>0.083939</td>\n",
       "      <td>1.508290</td>\n",
       "      <td>0.061472</td>\n",
       "      <td>0.079545</td>\n",
       "      <td>11574.018555</td>\n",
       "      <td>5658.472585</td>\n",
       "    </tr>\n",
       "    <tr>\n",
       "      <th>4748</th>\n",
       "      <td>6.503873</td>\n",
       "      <td>7.637695</td>\n",
       "      <td>30220.023438</td>\n",
       "      <td>2220.953125</td>\n",
       "      <td>3.302285</td>\n",
       "      <td>11</td>\n",
       "      <td>0.003605</td>\n",
       "      <td>9946.455078</td>\n",
       "      <td>373.474487</td>\n",
       "      <td>3.974850</td>\n",
       "      <td>...</td>\n",
       "      <td>1.322652</td>\n",
       "      <td>5941.957520</td>\n",
       "      <td>0.999997</td>\n",
       "      <td>2.649327</td>\n",
       "      <td>0.040892</td>\n",
       "      <td>5.551018</td>\n",
       "      <td>1.114184</td>\n",
       "      <td>1.354780</td>\n",
       "      <td>2493.781494</td>\n",
       "      <td>5695.279800</td>\n",
       "    </tr>\n",
       "    <tr>\n",
       "      <th>7262</th>\n",
       "      <td>7.762585</td>\n",
       "      <td>1.362301</td>\n",
       "      <td>39385.574219</td>\n",
       "      <td>2277.678467</td>\n",
       "      <td>3.542462</td>\n",
       "      <td>12</td>\n",
       "      <td>0.000165</td>\n",
       "      <td>10077.973633</td>\n",
       "      <td>854.056946</td>\n",
       "      <td>3.159458</td>\n",
       "      <td>...</td>\n",
       "      <td>0.106239</td>\n",
       "      <td>5689.124023</td>\n",
       "      <td>0.999999</td>\n",
       "      <td>0.824156</td>\n",
       "      <td>0.013561</td>\n",
       "      <td>0.567746</td>\n",
       "      <td>0.007443</td>\n",
       "      <td>0.031659</td>\n",
       "      <td>5923.208496</td>\n",
       "      <td>5591.218293</td>\n",
       "    </tr>\n",
       "    <tr>\n",
       "      <th>7294</th>\n",
       "      <td>8.918722</td>\n",
       "      <td>3.523058</td>\n",
       "      <td>72265.078125</td>\n",
       "      <td>4000.049561</td>\n",
       "      <td>3.586320</td>\n",
       "      <td>12</td>\n",
       "      <td>0.000156</td>\n",
       "      <td>8640.324219</td>\n",
       "      <td>507.279358</td>\n",
       "      <td>3.527335</td>\n",
       "      <td>...</td>\n",
       "      <td>0.018595</td>\n",
       "      <td>6656.683105</td>\n",
       "      <td>0.999979</td>\n",
       "      <td>0.125356</td>\n",
       "      <td>0.006217</td>\n",
       "      <td>6.357133</td>\n",
       "      <td>0.477799</td>\n",
       "      <td>0.772351</td>\n",
       "      <td>6137.553711</td>\n",
       "      <td>5658.597706</td>\n",
       "    </tr>\n",
       "    <tr>\n",
       "      <th>8866</th>\n",
       "      <td>26.101124</td>\n",
       "      <td>11.235042</td>\n",
       "      <td>63607.480469</td>\n",
       "      <td>4253.261719</td>\n",
       "      <td>3.396979</td>\n",
       "      <td>11</td>\n",
       "      <td>0.000487</td>\n",
       "      <td>15710.500977</td>\n",
       "      <td>633.588501</td>\n",
       "      <td>3.903400</td>\n",
       "      <td>...</td>\n",
       "      <td>2.097821</td>\n",
       "      <td>6534.297363</td>\n",
       "      <td>0.999986</td>\n",
       "      <td>1.848041</td>\n",
       "      <td>0.022757</td>\n",
       "      <td>5.857389</td>\n",
       "      <td>0.197562</td>\n",
       "      <td>0.600077</td>\n",
       "      <td>7767.381348</td>\n",
       "      <td>5707.569360</td>\n",
       "    </tr>\n",
       "    <tr>\n",
       "      <th>...</th>\n",
       "      <td>...</td>\n",
       "      <td>...</td>\n",
       "      <td>...</td>\n",
       "      <td>...</td>\n",
       "      <td>...</td>\n",
       "      <td>...</td>\n",
       "      <td>...</td>\n",
       "      <td>...</td>\n",
       "      <td>...</td>\n",
       "      <td>...</td>\n",
       "      <td>...</td>\n",
       "      <td>...</td>\n",
       "      <td>...</td>\n",
       "      <td>...</td>\n",
       "      <td>...</td>\n",
       "      <td>...</td>\n",
       "      <td>...</td>\n",
       "      <td>...</td>\n",
       "      <td>...</td>\n",
       "      <td>...</td>\n",
       "      <td>...</td>\n",
       "    </tr>\n",
       "    <tr>\n",
       "      <th>695285</th>\n",
       "      <td>6.395738</td>\n",
       "      <td>8.830605</td>\n",
       "      <td>49180.976562</td>\n",
       "      <td>5255.222168</td>\n",
       "      <td>2.926477</td>\n",
       "      <td>12</td>\n",
       "      <td>0.012156</td>\n",
       "      <td>17309.855469</td>\n",
       "      <td>1966.233032</td>\n",
       "      <td>2.864960</td>\n",
       "      <td>...</td>\n",
       "      <td>0.707390</td>\n",
       "      <td>5632.050293</td>\n",
       "      <td>1.000000</td>\n",
       "      <td>6.567381</td>\n",
       "      <td>0.028032</td>\n",
       "      <td>7.079429</td>\n",
       "      <td>3.980603</td>\n",
       "      <td>4.619447</td>\n",
       "      <td>29400.964844</td>\n",
       "      <td>5431.999080</td>\n",
       "    </tr>\n",
       "    <tr>\n",
       "      <th>695592</th>\n",
       "      <td>9.362698</td>\n",
       "      <td>3.255105</td>\n",
       "      <td>104701.429688</td>\n",
       "      <td>4181.854004</td>\n",
       "      <td>3.913080</td>\n",
       "      <td>12</td>\n",
       "      <td>0.000406</td>\n",
       "      <td>11150.882812</td>\n",
       "      <td>545.140625</td>\n",
       "      <td>3.710750</td>\n",
       "      <td>...</td>\n",
       "      <td>0.101554</td>\n",
       "      <td>7614.856445</td>\n",
       "      <td>0.999966</td>\n",
       "      <td>0.765245</td>\n",
       "      <td>0.019872</td>\n",
       "      <td>1.931802</td>\n",
       "      <td>0.208888</td>\n",
       "      <td>0.400773</td>\n",
       "      <td>6283.958008</td>\n",
       "      <td>5360.808521</td>\n",
       "    </tr>\n",
       "    <tr>\n",
       "      <th>695609</th>\n",
       "      <td>22.411192</td>\n",
       "      <td>5.518576</td>\n",
       "      <td>32153.937500</td>\n",
       "      <td>4815.298340</td>\n",
       "      <td>2.586171</td>\n",
       "      <td>12</td>\n",
       "      <td>0.001562</td>\n",
       "      <td>5230.876953</td>\n",
       "      <td>329.792877</td>\n",
       "      <td>3.456001</td>\n",
       "      <td>...</td>\n",
       "      <td>0.519287</td>\n",
       "      <td>6002.145508</td>\n",
       "      <td>0.999989</td>\n",
       "      <td>3.945034</td>\n",
       "      <td>0.025277</td>\n",
       "      <td>0.740915</td>\n",
       "      <td>0.007924</td>\n",
       "      <td>9.220637</td>\n",
       "      <td>7729.653809</td>\n",
       "      <td>5557.989205</td>\n",
       "    </tr>\n",
       "    <tr>\n",
       "      <th>697738</th>\n",
       "      <td>3.684875</td>\n",
       "      <td>0.115578</td>\n",
       "      <td>38364.523438</td>\n",
       "      <td>1901.783691</td>\n",
       "      <td>3.696829</td>\n",
       "      <td>11</td>\n",
       "      <td>0.045211</td>\n",
       "      <td>10004.059570</td>\n",
       "      <td>480.160706</td>\n",
       "      <td>3.729172</td>\n",
       "      <td>...</td>\n",
       "      <td>0.839340</td>\n",
       "      <td>6913.796875</td>\n",
       "      <td>0.999990</td>\n",
       "      <td>9.024504</td>\n",
       "      <td>0.043756</td>\n",
       "      <td>3.366854</td>\n",
       "      <td>1.019392</td>\n",
       "      <td>11.043988</td>\n",
       "      <td>10187.216797</td>\n",
       "      <td>5195.008373</td>\n",
       "    </tr>\n",
       "    <tr>\n",
       "      <th>697885</th>\n",
       "      <td>5.815420</td>\n",
       "      <td>-0.765341</td>\n",
       "      <td>34682.125000</td>\n",
       "      <td>1617.405640</td>\n",
       "      <td>3.757996</td>\n",
       "      <td>12</td>\n",
       "      <td>0.000896</td>\n",
       "      <td>8576.627930</td>\n",
       "      <td>1031.034302</td>\n",
       "      <td>2.807933</td>\n",
       "      <td>...</td>\n",
       "      <td>1.471666</td>\n",
       "      <td>14358.407227</td>\n",
       "      <td>0.998632</td>\n",
       "      <td>4.191208</td>\n",
       "      <td>0.044885</td>\n",
       "      <td>4.189818</td>\n",
       "      <td>0.172767</td>\n",
       "      <td>2.076139</td>\n",
       "      <td>2574.698242</td>\n",
       "      <td>5586.054601</td>\n",
       "    </tr>\n",
       "  </tbody>\n",
       "</table>\n",
       "<p>893 rows × 36 columns</p>\n",
       "</div>"
      ],
      "text/plain": [
       "        p_plus_PID_P  p_plus_PID_K       p_plus_P    p_plus_PT  p_plus_ETA  \\\n",
       "1708       22.539282      3.836536   41038.832031  3289.901611    3.215173   \n",
       "4748        6.503873      7.637695   30220.023438  2220.953125    3.302285   \n",
       "7262        7.762585      1.362301   39385.574219  2277.678467    3.542462   \n",
       "7294        8.918722      3.523058   72265.078125  4000.049561    3.586320   \n",
       "8866       26.101124     11.235042   63607.480469  4253.261719    3.396979   \n",
       "...              ...           ...            ...          ...         ...   \n",
       "695285      6.395738      8.830605   49180.976562  5255.222168    2.926477   \n",
       "695592      9.362698      3.255105  104701.429688  4181.854004    3.913080   \n",
       "695609     22.411192      5.518576   32153.937500  4815.298340    2.586171   \n",
       "697738      3.684875      0.115578   38364.523438  1901.783691    3.696829   \n",
       "697885      5.815420     -0.765341   34682.125000  1617.405640    3.757996   \n",
       "\n",
       "        p_plus_NFTHITS  p_plus_GHOSTPROB    pi_minus_P  pi_minus_PT  \\\n",
       "1708                12          0.000545   6566.583984   430.458069   \n",
       "4748                11          0.003605   9946.455078   373.474487   \n",
       "7262                12          0.000165  10077.973633   854.056946   \n",
       "7294                12          0.000156   8640.324219   507.279358   \n",
       "8866                11          0.000487  15710.500977   633.588501   \n",
       "...                ...               ...           ...          ...   \n",
       "695285              12          0.012156  17309.855469  1966.233032   \n",
       "695592              12          0.000406  11150.882812   545.140625   \n",
       "695609              12          0.001562   5230.876953   329.792877   \n",
       "697738              11          0.045211  10004.059570   480.160706   \n",
       "697885              12          0.000896   8576.627930  1031.034302   \n",
       "\n",
       "        pi_minus_ETA  ...  Lambda0_CHI2   Lb_BPVCORRM  Lb_BPVDIRA  \\\n",
       "1708        3.416897  ...      0.157911  11564.919922    0.999434   \n",
       "4748        3.974850  ...      1.322652   5941.957520    0.999997   \n",
       "7262        3.159458  ...      0.106239   5689.124023    0.999999   \n",
       "7294        3.527335  ...      0.018595   6656.683105    0.999979   \n",
       "8866        3.903400  ...      2.097821   6534.297363    0.999986   \n",
       "...              ...  ...           ...           ...         ...   \n",
       "695285      2.864960  ...      0.707390   5632.050293    1.000000   \n",
       "695592      3.710750  ...      0.101554   7614.856445    0.999966   \n",
       "695609      3.456001  ...      0.519287   6002.145508    0.999989   \n",
       "697738      3.729172  ...      0.839340   6913.796875    0.999990   \n",
       "697885      2.807933  ...      1.471666  14358.407227    0.998632   \n",
       "\n",
       "        Lb_BPVIPCHI2  Lb_BPVIP  Lb_MAXSDOCA  Lb_MAXSDOCACHI2    Lb_CHI2  \\\n",
       "1708       12.885532  0.083939     1.508290         0.061472   0.079545   \n",
       "4748        2.649327  0.040892     5.551018         1.114184   1.354780   \n",
       "7262        0.824156  0.013561     0.567746         0.007443   0.031659   \n",
       "7294        0.125356  0.006217     6.357133         0.477799   0.772351   \n",
       "8866        1.848041  0.022757     5.857389         0.197562   0.600077   \n",
       "...              ...       ...          ...              ...        ...   \n",
       "695285      6.567381  0.028032     7.079429         3.980603   4.619447   \n",
       "695592      0.765245  0.019872     1.931802         0.208888   0.400773   \n",
       "695609      3.945034  0.025277     0.740915         0.007924   9.220637   \n",
       "697738      9.024504  0.043756     3.366854         1.019392  11.043988   \n",
       "697885      4.191208  0.044885     4.189818         0.172767   2.076139   \n",
       "\n",
       "               Lb_PT      Lb_MASS  \n",
       "1708    11574.018555  5658.472585  \n",
       "4748     2493.781494  5695.279800  \n",
       "7262     5923.208496  5591.218293  \n",
       "7294     6137.553711  5658.597706  \n",
       "8866     7767.381348  5707.569360  \n",
       "...              ...          ...  \n",
       "695285  29400.964844  5431.999080  \n",
       "695592   6283.958008  5360.808521  \n",
       "695609   7729.653809  5557.989205  \n",
       "697738  10187.216797  5195.008373  \n",
       "697885   2574.698242  5586.054601  \n",
       "\n",
       "[893 rows x 36 columns]"
      ]
     },
     "execution_count": 35,
     "metadata": {},
     "output_type": "execute_result"
    }
   ],
   "source": [
    "signal_data"
   ]
  },
  {
   "cell_type": "code",
   "execution_count": 89,
   "id": "bd10fa51",
   "metadata": {},
   "outputs": [],
   "source": [
    "signal_data_ppl = events.arrays([\n",
    " 'p_plus_PID_P',\n",
    " 'p_plus_PID_K',\n",
    " 'p_plus_P',\n",
    " 'p_plus_PT',\n",
    " 'p_plus_ETA',\n",
    " 'p_plus_NFTHITS', \n",
    " 'p_plus_GHOSTPROB',\n",
    "\n",
    "\n",
    "\n",
    " 'pi_minus_P',\n",
    " 'pi_minus_PT',\n",
    " 'pi_minus_ETA',\n",
    " 'pi_minus_NFTHITS', \n",
    " 'pi_minus_GHOSTPROB',\n",
    " \n",
    "\n",
    "    \n",
    "\n",
    "    \n",
    " 'Lambda0_END_VZ',\n",
    " 'Lambda0_BPVCORRM',\n",
    " 'Lambda0_BPVDIRA',\n",
    " 'Lambda0_BPVIPCHI2',\n",
    " 'Lambda0_BPVLTIME',\n",
    " 'Lambda0_BPVFD',\n",
    " 'Lambda0_BPVIP',\n",
    " 'Lambda0_BPVVDRHO',\n",
    " 'Lambda0_MAXSDOCA',\n",
    " 'Lambda0_MAXSDOCACHI2',\n",
    " 'Lambda0_MASS',\n",
    " 'Lambda0_P',\n",
    " 'Lambda0_PT',\n",
    " 'Lambda0_ETA',\n",
    " 'Lambda0_CHI2'], cut = 'Lambda0_BKGCAT == 0', library = 'pd' )\n",
    "\n",
    "\n"
   ]
  },
  {
   "cell_type": "code",
   "execution_count": 29,
   "id": "49ff6e93",
   "metadata": {},
   "outputs": [],
   "source": [
    "p_cut_var = [\n",
    " 'p_plus_PID_P',\n",
    " 'p_plus_PID_K',\n",
    " 'p_plus_P',\n",
    " 'p_plus_PT',\n",
    " 'p_plus_ETA', \n",
    " 'p_plus_GHOSTPROB']\n",
    "    \n",
    "p_min = [-10, -10, 1e4, 400, 2, 0]\n",
    "p_max = [1e20, 1e20, 1e20, 1e20, 5, 0.4]\n",
    "\n",
    "pi_cut_var = [\n",
    " 'pi_minus_PT',\n",
    " 'pi_minus_ETA',\n",
    " 'pi_minus_GHOSTPROB'\n",
    " ]\n",
    "\n",
    "pi_min = [75,2, 0]\n",
    "pi_max = [1e20,5, 0.4]\n",
    "\n",
    "lamda0_cut_var = [\n",
    " 'Lambda0_ETA',\n",
    " 'Lambda0_BPVDIRA',\n",
    " 'Lambda0_BPVFD',\n",
    " 'Lambda0_BPVIP',\n",
    " 'Lambda0_BPVVDRHO',\n",
    " 'Lambda0_BPVIPCHI2',\n",
    " 'Lambda0_MASS',\n",
    " 'Lambda0_MAXSDOCA',\n",
    " 'Lambda0_MAXSDOCACHI2',\n",
    " 'Lambda0_CHI2',\n",
    " 'Lambda0_P']\n",
    "\n",
    "lamda0_min = [2, 0.9995, 4000, 0, 80, 0, 600, 0, 0, 0, 10000]\n",
    "lamda0_max = [5, 1e20, 1e20, 100, 1e20, 200, 1500, 50, 1000, 150, 1e20]\n",
    "\n",
    "lb_cut_var = [\n",
    " 'Lb_BPVDIRA',\n",
    " 'Lb_BPVIP',\n",
    " 'Lb_BPVIPCHI2',\n",
    " 'Lb_MAXSDOCA',\n",
    " 'Lb_MAXSDOCACHI2',\n",
    " 'Lb_CHI2',\n",
    " 'Lb_PT',\n",
    " 'Lb_MASS']\n",
    "\n",
    "lb_min = [0.985, 0, 0, 0, 0,0,600, 4e3 ]\n",
    "lb_max = [1e20, 0.2, 150,50, 30, 50,1e20, 8e3]\n"
   ]
  },
  {
   "cell_type": "code",
   "execution_count": 102,
   "id": "ec2f4327",
   "metadata": {},
   "outputs": [],
   "source": [
    "lamda0_string = [\n",
    " 'Lambda0_BPVDIRA',\n",
    " 'Lambda0_BPVIPCHI2',\n",
    " 'Lambda0_BPVFD',\n",
    " 'Lambda0_BPVIP',\n",
    " 'Lambda0_BPVVDRHO',\n",
    " 'Lambda0_MAXSDOCA',\n",
    " 'Lambda0_MAXSDOCACHI2',\n",
    " 'Lambda0_MASS',\n",
    " 'Lambda0_P',\n",
    " 'Lambda0_ETA',\n",
    " 'Lambda0_CHI2']\n",
    "\n",
    "lamda0_bkg = [\n",
    " bkg_data.Lambda0_BPVDIRA,\n",
    " bkg_data.Lambda0_BPVIPCHI2,\n",
    " bkg_data.Lambda0_BPVFD,\n",
    " bkg_data.Lambda0_BPVIP,\n",
    " bkg_data.Lambda0_BPVVDRHO,\n",
    " bkg_data.Lambda0_MAXSDOCA,\n",
    " bkg_data.Lambda0_MAXSDOCACHI2,\n",
    " bkg_data.Lambda0_MASS,\n",
    " bkg_data.Lambda0_P,\n",
    " bkg_data.Lambda0_ETA,\n",
    " bkg_data.Lambda0_CHI2]\n",
    "\n",
    "lamda0_sig = [\n",
    " signal_data.Lambda0_BPVDIRA,\n",
    " signal_data.Lambda0_BPVIPCHI2,\n",
    " signal_data.Lambda0_BPVFD,\n",
    " signal_data.Lambda0_BPVIP,\n",
    " signal_data.Lambda0_BPVVDRHO,\n",
    " signal_data.Lambda0_MAXSDOCA,\n",
    " signal_data.Lambda0_MAXSDOCACHI2,\n",
    " signal_data.Lambda0_MASS,\n",
    " signal_data.Lambda0_P,\n",
    " signal_data.Lambda0_ETA,\n",
    " signal_data.Lambda0_CHI2]\n",
    "\n",
    "lamda0_minbias = [\n",
    " minbias_data.Lambda0_BPVDIRA,\n",
    " minbias_data.Lambda0_BPVIPCHI2,\n",
    " minbias_data.Lambda0_BPVFD,\n",
    " minbias_data.Lambda0_BPVIP,\n",
    " minbias_data.Lambda0_BPVVDRHO,\n",
    " minbias_data.Lambda0_MAXSDOCA,\n",
    " minbias_data.Lambda0_MAXSDOCACHI2,\n",
    " minbias_data.Lambda0_MASS,\n",
    " minbias_data.Lambda0_P,\n",
    " minbias_data.Lambda0_ETA,\n",
    " minbias_data.Lambda0_CHI2]\n",
    " "
   ]
  },
  {
   "cell_type": "code",
   "execution_count": 103,
   "id": "b00e4b8d",
   "metadata": {},
   "outputs": [],
   "source": [
    "pi_minus_string = [\n",
    " \n",
    " 'pi_minus_PT',\n",
    " 'pi_minus_ETA',\n",
    " 'pi_minus_GHOSTPROB']\n",
    "\n",
    "pi_minus_bkg = [\n",
    " bkg_data.pi_minus_PT,\n",
    " bkg_data.pi_minus_ETA,\n",
    " bkg_data.pi_minus_GHOSTPROB]\n",
    "\n",
    "pi_minus_sig = [\n",
    " signal_data.pi_minus_PT,\n",
    " signal_data.pi_minus_ETA,\n",
    " signal_data.pi_minus_GHOSTPROB]\n",
    "\n",
    "pi_minus_minbias = [\n",
    " minbias_data.pi_minus_PT,\n",
    " minbias_data.pi_minus_ETA,\n",
    " minbias_data.pi_minus_GHOSTPROB]\n",
    "\n",
    "\n",
    "\n",
    "p_plus_string = [\n",
    " 'p_plus_PID_P',\n",
    " 'p_plus_PID_K',\n",
    " 'p_plus_P',\n",
    " 'p_plus_PT',\n",
    " 'p_plus_ETA',\n",
    " 'p_plus_GHOSTPROB']\n",
    "\n",
    "p_plus_bkg = [\n",
    " bkg_data.p_plus_PID_P,\n",
    " bkg_data.p_plus_PID_K,\n",
    " bkg_data.p_plus_P,\n",
    " bkg_data.p_plus_PT,\n",
    " bkg_data.p_plus_ETA,\n",
    " bkg_data.p_plus_GHOSTPROB]\n",
    "\n",
    "p_plus_sig = [\n",
    " signal_data.p_plus_PID_P,\n",
    " signal_data.p_plus_PID_K,\n",
    " signal_data.p_plus_P,\n",
    " signal_data.p_plus_PT,\n",
    " signal_data.p_plus_ETA,\n",
    " signal_data.p_plus_GHOSTPROB]\n",
    "\n",
    "p_plus_minbias = p_plus_bkg = [\n",
    " minbias_data.p_plus_PID_P,\n",
    " minbias_data.p_plus_PID_K,\n",
    " minbias_data.p_plus_P,\n",
    " minbias_data.p_plus_PT,\n",
    " minbias_data.p_plus_ETA,\n",
    " minbias_data.p_plus_GHOSTPROB]\n",
    " "
   ]
  },
  {
   "cell_type": "code",
   "execution_count": 104,
   "id": "62e224a3",
   "metadata": {},
   "outputs": [],
   "source": [
    "lamdab_string = [\n",
    " 'Lb_BPVDIRA',\n",
    " 'Lb_BPVIP',\n",
    " 'Lb_BPVIPCHI2',\n",
    " 'Lb_MAXSDOCA',\n",
    " 'Lb_MAXSDOCACHI2',\n",
    " 'Lb_CHI2',\n",
    " 'Lb_PT',\n",
    " 'Lb_MASS']\n",
    "\n",
    "\n",
    "lamdab_minbias = [\n",
    " minbias_data.Lb_BPVDIRA,\n",
    " minbias_data.Lb_BPVIP,\n",
    " minbias_data.Lb_BPVIPCHI2,\n",
    " minbias_data.Lb_MAXSDOCA,\n",
    " minbias_data.Lb_MAXSDOCACHI2,\n",
    " minbias_data.Lb_CHI2,\n",
    " minbias_data.Lb_PT,\n",
    " minbias_data.Lb_MASS]\n",
    " \n",
    "\n",
    "lamdab_bkg = [ \n",
    " bkg_data.Lb_BPVDIRA,\n",
    " bkg_data.Lb_BPVIP,\n",
    " bkg_data.Lb_BPVIPCHI2,\n",
    " bkg_data.Lb_MAXSDOCA,\n",
    " bkg_data.Lb_MAXSDOCACHI2,\n",
    " bkg_data.Lb_CHI2,\n",
    " bkg_data.Lb_PT,\n",
    " bkg_data.Lb_MASS]\n",
    "\n",
    "lamdab_signal = [\n",
    " signal_data.Lb_BPVDIRA,\n",
    " signal_data.Lb_BPVIP,\n",
    " signal_data.Lb_BPVIPCHI2,\n",
    " signal_data.Lb_MAXSDOCA,\n",
    " signal_data.Lb_MAXSDOCACHI2,\n",
    " signal_data.Lb_CHI2,\n",
    " signal_data.Lb_PT,\n",
    " signal_data.Lb_MASS]"
   ]
  },
  {
   "cell_type": "code",
   "execution_count": null,
   "id": "b9db4c8c",
   "metadata": {},
   "outputs": [],
   "source": []
  },
  {
   "cell_type": "code",
   "execution_count": 30,
   "id": "6e3ef7ea",
   "metadata": {},
   "outputs": [
    {
     "data": {
      "text/plain": [
       "891"
      ]
     },
     "execution_count": 30,
     "metadata": {},
     "output_type": "execute_result"
    }
   ],
   "source": [
    "len(signal_data['EVENTNUMBER'].unique())"
   ]
  },
  {
   "cell_type": "code",
   "execution_count": 31,
   "id": "a63b64e2",
   "metadata": {},
   "outputs": [
    {
     "data": {
      "text/plain": [
       "35378"
      ]
     },
     "execution_count": 31,
     "metadata": {},
     "output_type": "execute_result"
    }
   ],
   "source": [
    "len(bkg_data['EVENTNUMBER'].unique())"
   ]
  },
  {
   "cell_type": "code",
   "execution_count": 32,
   "id": "49210c65",
   "metadata": {},
   "outputs": [
    {
     "data": {
      "text/plain": [
       "65"
      ]
     },
     "execution_count": 32,
     "metadata": {},
     "output_type": "execute_result"
    }
   ],
   "source": [
    "len(minbias_data['EVENTNUMBER'].unique())"
   ]
  },
  {
   "cell_type": "code",
   "execution_count": null,
   "id": "55e2f6a8",
   "metadata": {},
   "outputs": [],
   "source": []
  },
  {
   "cell_type": "code",
   "execution_count": null,
   "id": "ab7c5e02",
   "metadata": {},
   "outputs": [],
   "source": []
  },
  {
   "cell_type": "code",
   "execution_count": null,
   "id": "fac001e5",
   "metadata": {},
   "outputs": [],
   "source": []
  },
  {
   "cell_type": "code",
   "execution_count": null,
   "id": "924501fa",
   "metadata": {},
   "outputs": [],
   "source": []
  },
  {
   "cell_type": "code",
   "execution_count": 85,
   "id": "3c66b113",
   "metadata": {},
   "outputs": [],
   "source": [
    "def cut_func(data, xmin, xmax):\n",
    "    \n",
    "    comb_cut = []\n",
    "    for val in bkg_data[data]:\n",
    "        if val > xmin and val < xmax:\n",
    "            comb_cut.append(val)\n",
    "       \n",
    "    minbias_cut = []\n",
    "    for val in minbias_data[data]:\n",
    "        if val > xmin and val < xmax:\n",
    "            minbias_cut.append(val)\n",
    "    \n",
    "    signal_cut = []\n",
    "    for val in signal_data[data]:\n",
    "        if val > xmin and val < xmax:\n",
    "            signal_cut.append(val)\n",
    "\n",
    "    \n",
    "    kept_signal = len(signal_cut) / len(signal_data[data]) *100\n",
    "    events_lost = abs(len(signal_cut) - len(signal_data[data]))\n",
    "    comb_bkg_percut = abs(100-(len(comb_cut) / len(bkg_data[data]) *100))\n",
    "    comb_bkg_lost = abs(len(comb_cut) - len(bkg_data[data]))\n",
    "    minbias_bkg_percut = abs(100-(len(minbias_cut) / len(minbias_data[data])*100))\n",
    "    #minbias_bkg_lost = abs(len(minbias_cut) - len(minbias_data[data]))\n",
    "    #info = [kept_signal, events_lost, comb_bkg_kept, comb_bkg_lost, minbias_bkg_kept, minbias_bkg_lost]\n",
    "    #signal_info = f' We have kept {kept_signal:.2f}% of the signal with this cut and have lost {events_lost:.2f} signal events'\n",
    "    #comb_bkg_info = f' We have lost {abs(100-comb_bkg_kept):.2f}% of the combinatorial background with this cut and have lost {comb_bkg_lost:.2f} events'\n",
    "    #minbias_info = f' We have lost {abs(100-minbias_bkg_kept):.2f}% of the minbias background with this cut and have lost {minbias_bkg_lost:.2f} events'\n",
    "    \n",
    "    #summary_info = f' For the {data} cut, {kept_signal:.2f}% of signal was retained, {comb_bkg_percut:.2f}% of the combinatorial background was removed, and {minbias_bkg_percut:.2f}% of the minimum bias background was removed.'\n",
    "    data_info = [kept_signal, comb_bkg_percut, minbias_bkg_percut]\n",
    "    #title = title_name[i]\n",
    "    #print(f'the title is {title}')\n",
    "    Min = 0\n",
    "    Min2 = 0\n",
    "    Min3 = 0\n",
    "    Max = 0\n",
    "    Max2 = 0\n",
    "    Max3 = 0\n",
    "    ''' \n",
    "    if title == 'Lambda0_MAXSDOCA':\n",
    "        Min = 0\n",
    "        Min2 = 0\n",
    "        Min3 = 0\n",
    "        Max = 75\n",
    "        Max2 = 75\n",
    "        Max3 = 75\n",
    "    if title == 'Lambda0_MAXSDOCACHI2':\n",
    "        Min= 0\n",
    "        Min2 = 0\n",
    "        Min3 = 0\n",
    "        Max = 1000\n",
    "        Max2 = 1000\n",
    "        Max3 = 1000\n",
    "    \n",
    "    if title == 'Lambda0_BPVDIRA':\n",
    "        Min= 0.999\n",
    "        Min2 = 0.999\n",
    "        Min3 = 0.999\n",
    "        Max = 1\n",
    "        Max2 = 1\n",
    "        Max3 = 1\n",
    "    \n",
    "    if title == 'Lambda0_BPVIPCHI2':\n",
    "        Min= 0\n",
    "        Min2 = 0\n",
    "        Min3 = 0\n",
    "        Max = 5e2\n",
    "        Max2 = 500\n",
    "        Max3 = 500\n",
    "    if title == 'Lambda0_BPVFD':\n",
    "        Min= 1e3\n",
    "        Min2 = 1e3\n",
    "        Min3 = 1e3\n",
    "        Max = 9.5e3\n",
    "        Max2 = 9.5e3\n",
    "        Max3 = 9.5e3\n",
    "    \n",
    "    \n",
    "    if title == 'Lambda0_BPVIP':\n",
    "        Min = 0\n",
    "        Min2 = 0\n",
    "        Min3 = 0\n",
    "        Max = 275\n",
    "        Max2 = 275\n",
    "        Max3 = 275\n",
    "    \n",
    "    if title == 'Lambda0_MAXSDOCACHI2':\n",
    "        Min= 0\n",
    "        Min2 = 0\n",
    "        Min3 = 0\n",
    "        Max = 1e3\n",
    "        Max2 = 1e3\n",
    "        Max3 = 1e3\n",
    "    \n",
    "    if title == 'Lambda0_MASS':\n",
    "        Min= 400\n",
    "        Min2 = 400\n",
    "        Min3 = 400\n",
    "        Max = 1700\n",
    "        Max2 = 1700\n",
    "        Max3 = 1700\n",
    "    \n",
    "    if title == 'Lambda0_P':\n",
    "        Min= 0\n",
    "        Min2 = 0\n",
    "        Min3 = 0\n",
    "        Max = 3e5\n",
    "        Max2 = 3e5\n",
    "        Max3 = 3e5\n",
    "    \n",
    "    if title == 'Lambda0_BPVVDRHO':\n",
    "        Min= 0\n",
    "        Min2 = 0\n",
    "        Min3 = 0\n",
    "        Max = 2700\n",
    "        Max2 = 2700\n",
    "        Max3 = 2700\n",
    "    if title == 'Lambda0_CHI2':\n",
    "        Min= 0\n",
    "        Min2 = 0\n",
    "        Min3 = 0\n",
    "        Max = 250\n",
    "        Max2 = 250\n",
    "        Max3 = 250\n",
    "    if title == 'Lambda0_ETA':\n",
    "        Min= 0\n",
    "        Min2 = 0\n",
    "        Min3 = 0\n",
    "        Max = 8\n",
    "        Max2 = 8\n",
    "        Max3 = 8\n",
    "    \n",
    "        \n",
    "    \n",
    "\n",
    "    if title == 'pi_minus_PT':\n",
    "        Min= 0\n",
    "        Min2 = 0\n",
    "        Min3 = 0\n",
    "        Max = 6e3\n",
    "        Max2 = 6e3\n",
    "        Max3 = 6e3\n",
    "   \n",
    "        \n",
    "    if title == 'pi_minus_ETA':\n",
    "        Min= 0\n",
    "        Min2 = 0\n",
    "        Min3 = 0\n",
    "        Max = 9\n",
    "        Max2 = 9\n",
    "        Max3 = 9\n",
    "    \n",
    "    if title == 'pi_minus_GHOSTPROB':\n",
    "        Min= 0\n",
    "        Min2 = 0\n",
    "        Min3 = 0\n",
    "        Max = 0.5\n",
    "        Max2 = 0.5\n",
    "        Max3 = 0.5\n",
    "   \n",
    "    \n",
    "    if title == 'Lb_BPVDIRA':\n",
    "        Min= 0.9989\n",
    "        Min2 = 0.9989\n",
    "        Min3 = 0.9989\n",
    "        Max = 1\n",
    "        Max2 = 1\n",
    "        Max3 = 1\n",
    "    \n",
    "    \n",
    "        \n",
    "    if title == 'Lb_BPVIP':\n",
    "        Min= 0\n",
    "        Min2 = 0\n",
    "        Min3 = 0\n",
    "        Max = 0.3\n",
    "        Max2 = 0.3\n",
    "        Max3 = 0.3\n",
    "    \n",
    "    if title == 'Lb_BPVIPCHI2':\n",
    "        Min= 0\n",
    "        Min2 = 0\n",
    "        Min3 = 0\n",
    "        Max = 250\n",
    "        Max2 = 250\n",
    "        Max3 = 250\n",
    "        \n",
    "\n",
    "\n",
    "    if title == 'Lb_CHI2':\n",
    "        Min= 0\n",
    "        Min2 = 0\n",
    "        Min3 = 0\n",
    "        Max = 50\n",
    "        Max2 = 50\n",
    "        Max3 = 50\n",
    "    \n",
    "     \n",
    "    if title == 'Lb_MAXSDOCA':\n",
    "        Min= 0\n",
    "        Min2 = 0\n",
    "        Min3 = 0\n",
    "        Max = 50\n",
    "        Max2 = 50\n",
    "        Max3 = 50\n",
    "    \n",
    "    if title == 'Lb_MAXSDOCACHI2':\n",
    "        Min= 0\n",
    "        Min2 = 0\n",
    "        Min3 = 0\n",
    "        Max = 50\n",
    "        Max2 = 50\n",
    "        Max3 = 50\n",
    "    \n",
    "    if title == 'Lb_PT':\n",
    "        Min= 0\n",
    "        Min2 = 0\n",
    "        Min3 = 0\n",
    "        Max = 4e4\n",
    "        Max2 = 4e4\n",
    "        Max3 = 4e4\n",
    "    if title == 'Lb_MASS':\n",
    "        Min= 2e3\n",
    "        Min2 = 2e3\n",
    "        Min3 = 2e3\n",
    "        Max = 9e3\n",
    "        Max2 = 9e3\n",
    "        Max3 = 9e3\n",
    "        \n",
    "    if title == 'p_plus_P':\n",
    "        Min= 0\n",
    "        Min2 = 0\n",
    "        Min3 = 0\n",
    "        Max = 250000\n",
    "        Max2 = 250000\n",
    "        Max3 = 250000\n",
    "        \n",
    "    if title == 'p_plus_PID_P':\n",
    "        Min= -40\n",
    "        Min2 = -40\n",
    "        Min3 = -40\n",
    "        Max = 50\n",
    "        Max2 = 50\n",
    "        Max3 = 50\n",
    "    \n",
    "    if title == 'p_plus_PID_K':\n",
    "        Min= -40\n",
    "        Min2 = -40\n",
    "        Min3 = -40\n",
    "        Max = 50\n",
    "        Max2 = 50\n",
    "        Max3 = 50\n",
    "        \n",
    "    if title == 'p_plus_PT':\n",
    "        Min= 0\n",
    "        Min2 = 0\n",
    "        Min3 = 0\n",
    "        Max = 15000\n",
    "        Max2 = 15000\n",
    "        Max3 = 15000\n",
    "        \n",
    "    if title == 'p_plus_ETA':\n",
    "        Min= 2\n",
    "        Min2 = 2\n",
    "        Min3 = 2\n",
    "        Max = 7\n",
    "        Max2 = 7\n",
    "        Max3 = 7\n",
    "    \n",
    "    if title == 'p_plus_GHOSTPROB':\n",
    "        Min= 0\n",
    "        Min2 = 0\n",
    "        Min3 = 0\n",
    "        Max = 0.5\n",
    "        Max2 = .5\n",
    "        Max3 = .5\n",
    "       \n",
    "    plt.hist(comb_cut,bins = 30,histtype = 'step',label = 'Combinatiorial Background', density = True, range = [Min, Max], fill = False, edgecolor = 'red' )\n",
    "    #plt.hist(minbias_cut,bins = 30, histtype = 'step',label = 'Background', density = True, range = [Min3, Max3], fill = False, edgecolor = 'blue')\n",
    "    plt.hist(signal_cut,bins = 30, histtype = 'step',label = 'Signal', density = True, range = [Min2, Max2], fill = False, edgecolor = 'green')\n",
    "    plt.legend(loc = 'upper right')\n",
    "    plt.title(title)\n",
    "    filename = title + ' with cut'\n",
    "    print(f'now saving {filename}')\n",
    "    plt.savefig(filename)\n",
    "    plt.figure()\n",
    "   '''\n",
    "    \n",
    "    return data_info\n",
    "\n",
    "\n",
    "\n"
   ]
  },
  {
   "cell_type": "code",
   "execution_count": 33,
   "id": "4cfdf476",
   "metadata": {},
   "outputs": [],
   "source": [
    "def cut_data(data, xmin, xmax):\n",
    "    b = bkg_data[data]\n",
    "    \n",
    "    rows = []\n",
    "    for i in b.keys():\n",
    "        if b.loc[i] < xmin or b.loc[i] > xmax:\n",
    "            rows.append(i)\n",
    "    bkg_data.drop(rows, inplace = True)\n",
    "    \n",
    "\n",
    "\n",
    "    m = minbias_data[data]\n",
    "    rows2 = []\n",
    "    for i in m.keys():\n",
    "        if m.loc[i] < xmin or m.loc[i] > xmax:\n",
    "            rows2.append(i)\n",
    "    minbias_data.drop(rows2, inplace = True)\n",
    "    \n",
    "    \n",
    "\n",
    "    s = signal_data[data]\n",
    "    rows3 = []\n",
    "    for i in s.keys():\n",
    "        if s.loc[i] < xmin or s.loc[i] > xmax:\n",
    "            rows3.append(i)\n",
    "    signal_data.drop(rows3, inplace = True)\n",
    "\n",
    "    "
   ]
  },
  {
   "cell_type": "code",
   "execution_count": 34,
   "id": "9474896a",
   "metadata": {},
   "outputs": [
    {
     "data": {
      "text/plain": [
       "893"
      ]
     },
     "execution_count": 34,
     "metadata": {},
     "output_type": "execute_result"
    }
   ],
   "source": [
    "len(signal_data)"
   ]
  },
  {
   "cell_type": "code",
   "execution_count": 35,
   "id": "c8b23bf5",
   "metadata": {},
   "outputs": [
    {
     "data": {
      "text/plain": [
       "697451"
      ]
     },
     "execution_count": 35,
     "metadata": {},
     "output_type": "execute_result"
    }
   ],
   "source": [
    "len(bkg_data)"
   ]
  },
  {
   "cell_type": "code",
   "execution_count": 36,
   "id": "3d52d57f",
   "metadata": {},
   "outputs": [
    {
     "data": {
      "text/plain": [
       "8148"
      ]
     },
     "execution_count": 36,
     "metadata": {},
     "output_type": "execute_result"
    }
   ],
   "source": [
    "len(minbias_data)"
   ]
  },
  {
   "cell_type": "code",
   "execution_count": 18,
   "id": "d8feb358",
   "metadata": {},
   "outputs": [],
   "source": [
    "def cut_func_info(data, xmin, xmax):\n",
    "    \n",
    "    comb_cut = []\n",
    "    for val in bkg_data[data]:\n",
    "        if val > xmin and val < xmax:\n",
    "            comb_cut.append(val)\n",
    "        \n",
    "    \n",
    "        \n",
    "    minbias_cut = []\n",
    "    for val in minbias_data[data]:\n",
    "        if val > xmin and val < xmax:\n",
    "            minbias_cut.append(val)\n",
    "    \n",
    "    signal_cut = []\n",
    "    for val in signal_data[data]:\n",
    "        if val > xmin and val < xmax:\n",
    "            signal_cut.append(val)\n",
    "\n",
    "    \n",
    "    kept_signal = len(signal_cut) / len(signal_data[data]) *100\n",
    "    events_lost = abs(len(signal_cut) - len(signal_data[data]))\n",
    "    comb_bkg_percut = abs(100-(len(comb_cut) / len(bkg_data[data]) *100))\n",
    "    comb_bkg_lost = abs(len(comb_cut) - len(bkg_data[data]))\n",
    "    minbias_bkg_percut = abs(100-(len(minbias_cut) / len(minbias_data[data])*100))\n",
    "    minbias_bkg_lost = abs(len(minbias_cut) - len(minbias_data[data]))\n",
    "    #info = [kept_signal, events_lost, comb_bkg_kept, comb_bkg_lost, minbias_bkg_kept, minbias_bkg_lost]\n",
    "    #signal_info = f' We have kept {kept_signal:.2f}% of the signal with this cut and have lost {events_lost:.2f} signal events'\n",
    "    #comb_bkg_info = f' We have lost {abs(100-comb_bkg_kept):.2f}% of the combinatorial background with this cut and have lost {comb_bkg_lost:.2f} events'\n",
    "    #minbias_info = f' We have lost {abs(100-minbias_bkg_kept):.2f}% of the minbias background with this cut and have lost {minbias_bkg_lost:.2f} events'\n",
    "    \n",
    "    #summary_info = f' For the {data} cut, {kept_signal:.2f}% of signal was retained, {comb_bkg_percut:.2f}% of the combinatorial background was removed, and {minbias_bkg_percut:.2f}% of the minimum bias background was removed.'\n",
    "    #data_info = [kept_signal, events_lost, comb_bkg_percut, minbias_bkg_percut]\n",
    "    p_cut_sig, p_tot_sig, p_cut_comb, p_tot_comb, p_cut_minbias, p_tot_minbias  = len(signal_cut), len(signal_data[data]), len(comb_cut), len(bkg_data[data]), len(minbias_cut), len(minbias_data[data])\n",
    "    #proton_eff_sig = (p_cut_sig / p_tot_sig)*100\n",
    "    #proton_comb_lost = 100 - ((p_cut_comb / p_tot_comb)*100)\n",
    "    #proton_minbias_lost = 100 - ((p_cut_minbias / p_tot_minbias)*100)\n",
    "    \n",
    "    \n",
    "    \n",
    "    \n",
    "    return p_cut_sig, p_tot_sig, p_cut_comb, p_tot_comb, p_cut_minbias, p_tot_minbias"
   ]
  },
  {
   "cell_type": "code",
   "execution_count": 19,
   "id": "561d0b0b",
   "metadata": {},
   "outputs": [],
   "source": [
    "def cut_func_info_2(data, xmin, xmax):\n",
    "    \n",
    "    comb_cut = []\n",
    "    for val in bkg_data[data]:\n",
    "        if val > xmin and val < xmax:\n",
    "            comb_cut.append(val)\n",
    "        \n",
    "    \n",
    "      \n",
    "    minbias_cut = []\n",
    "    for val in minbias_data[data]:\n",
    "        if val > xmin and val < xmax:\n",
    "            minbias_cut.append(val)\n",
    "\n",
    "    signal_cut = []\n",
    "    for val in signal_data[data]:\n",
    "        if val > xmin and val < xmax:\n",
    "            signal_cut.append(val)\n",
    "\n",
    "    \n",
    "    kept_signal = len(signal_cut) / len(signal_data[data]) *100\n",
    "    events_lost = abs(len(signal_cut) - len(signal_data[data]))\n",
    "    comb_bkg_percut = abs(100-(len(comb_cut) / len(bkg_data[data]) *100))\n",
    "    comb_bkg_lost = abs(len(comb_cut) - len(bkg_data[data]))\n",
    "    #minbias_bkg_percut = abs(100-(len(minbias_cut) / len(minbias_data[data])*100))\n",
    "    #minbias_bkg_lost = abs(len(minbias_cut) - len(minbias_data[data]))\n",
    "    #info = [kept_signal, events_lost, comb_bkg_kept, comb_bkg_lost, minbias_bkg_kept, minbias_bkg_lost]\n",
    "    #signal_info = f' We have kept {kept_signal:.2f}% of the signal with this cut and have lost {events_lost:.2f} signal events'\n",
    "    #comb_bkg_info = f' We have lost {abs(100-comb_bkg_kept):.2f}% of the combinatorial background with this cut and have lost {comb_bkg_lost:.2f} events'\n",
    "    #minbias_info = f' We have lost {abs(100-minbias_bkg_kept):.2f}% of the minbias background with this cut and have lost {minbias_bkg_lost:.2f} events'\n",
    "    \n",
    "    #summary_info = f' For the {data} cut, {kept_signal:.2f}% of signal was retained, {comb_bkg_percut:.2f}% of the combinatorial background was removed, and {minbias_bkg_percut:.2f}% of the minimum bias background was removed.'\n",
    "    #data_info = [kept_signal, events_lost, comb_bkg_percut, minbias_bkg_percut]\n",
    "    p_cut_sig, p_tot_sig, p_cut_comb, p_tot_comb, p_cut_minbias, p_tot_minbias  = len(signal_cut), len(signal_data[data]), len(comb_cut), len(bkg_data[data]), len(minbias_cut), len(minbias_data[data])\n",
    "    p_cut_sig, p_tot_sig, p_cut_comb, p_tot_comb = len(signal_cut), len(signal_data[data]), len(comb_cut), len(bkg_data[data])\n",
    "    #proton_eff_sig = (p_cut_sig / p_tot_sig)*100\n",
    "    #proton_comb_lost = 100 - ((p_cut_comb / p_tot_comb)*100)\n",
    "    #proton_minbias_lost = 100 - ((p_cut_minbias / p_tot_minbias)*100)\n",
    "    \n",
    "    \n",
    "    #cut_info_p_plus = p_cut_sig, p_cut_comb, p_cut_minbias\n",
    "    \n",
    "    #return cut_info_p_plus\n",
    "    return  signal_cut, comb_cut, minbias_cut"
   ]
  },
  {
   "cell_type": "code",
   "execution_count": 20,
   "id": "7c547a88",
   "metadata": {},
   "outputs": [],
   "source": [
    "def plot_hist(dat,dat2, title, xlabel):\n",
    "    if title == 'Lambda0_MAXSDOCA':\n",
    "        Min= 0\n",
    "        Min2 = 0\n",
    "        Min3 = 0\n",
    "        Max = 750\n",
    "        Max2 = 750\n",
    "        Max3 = 750\n",
    "    if title == 'Lambda0_MAXSDOCACHI2':\n",
    "        Min= 0\n",
    "        Min2 = 0\n",
    "        Min3 = 0\n",
    "        Max = 750\n",
    "        Max2 = 750\n",
    "        Max3 = 750\n",
    "    \n",
    "    if title == 'Lambda0_BPVDIRA':\n",
    "        Min= 0.985\n",
    "        Min2 = 0.985\n",
    "        Min3 = 0.985\n",
    "        Max = 1\n",
    "        Max2 = 1\n",
    "        Max3 = 1\n",
    "    \n",
    "    if title == 'Lambda0_BPVIPCHI2':\n",
    "        Min= 0\n",
    "        Min2 = 0\n",
    "        Min3 = 0\n",
    "        Max = 400\n",
    "        Max2 = 400\n",
    "        Max3 = 400\n",
    "    if title == 'Lambda0_BPVFD':\n",
    "        Min= 1000\n",
    "        Min2 = 1000\n",
    "        Min3 = 1000\n",
    "        Max = 9500\n",
    "        Max2 = 9500\n",
    "        Max3 = 9500\n",
    "    \n",
    "    \n",
    "    if title == 'Lambda0_BPVIP':\n",
    "        Min= 0\n",
    "        Min2 = 0\n",
    "        Min3 = 0\n",
    "        Max = 275\n",
    "        Max2 = 275\n",
    "        Max3 = 275\n",
    "    \n",
    "    if title == 'Lambda0_MAXSDOCACHI2':\n",
    "        Min= 0\n",
    "        Min2 = 0\n",
    "        Min3 = 0\n",
    "        Max = 1e3\n",
    "        Max2 = 1e3\n",
    "        Max3 = 1e3\n",
    "        \n",
    "    if title == 'Lambda0_MASS':\n",
    "        Min= 400\n",
    "        Min2 = 400\n",
    "        Min3 = 400\n",
    "        Max = 1700\n",
    "        Max2 = 1700\n",
    "        Max3 = 1700\n",
    "    \n",
    "    if title == 'Lambda0_P':\n",
    "        Min= 0\n",
    "        Min2 = 0\n",
    "        Min3 = 0\n",
    "        Max = 3e5\n",
    "        Max2 = 3e5\n",
    "        Max3 = 3e5\n",
    "    \n",
    "    if title == 'Lambda0_BPVVDRHO':\n",
    "        Min= 0\n",
    "        Min2 = 0\n",
    "        Min3 = 0\n",
    "        Max = 1500\n",
    "        Max2 = 1500\n",
    "        Max3 = 1500\n",
    "    if title == 'Lambda0_CHI2':\n",
    "        Min= 0\n",
    "        Min2 = 0\n",
    "        Min3 = 0\n",
    "        Max = 250\n",
    "        Max2 = 250\n",
    "        Max3 = 250\n",
    "    \n",
    "    if title == 'Lambda0_ETA':\n",
    "        Min= 0\n",
    "        Min2 = 0\n",
    "        Min3 = 0\n",
    "        Max = 8\n",
    "        Max2 = 8\n",
    "        Max3 = 8\n",
    "    \n",
    "        \n",
    "    \n",
    "\n",
    "    if title == 'pi_minus_PT':\n",
    "        Min= 0\n",
    "        Min2 = 0\n",
    "        Min3 = 0\n",
    "        Max = 6e3\n",
    "        Max2 = 6e3\n",
    "        Max3 = 6e3\n",
    "   \n",
    "        \n",
    "    if title == 'pi_minus_ETA':\n",
    "        Min= 0\n",
    "        Min2 = 0\n",
    "        Min3 = 0\n",
    "        Max = 9\n",
    "        Max2 = 9\n",
    "        Max3 = 9\n",
    "    \n",
    "    if title == 'pi_minus_GHOSTPROB':\n",
    "        Min= 0\n",
    "        Min2 = 0\n",
    "        Min3 = 0\n",
    "        Max = 14\n",
    "        Max2 = 14\n",
    "        Max3 = 14\n",
    "   \n",
    "    \n",
    "    if title == 'Lb_BPVDIRA':\n",
    "        Min= 0.999\n",
    "        Min2 = 0.999\n",
    "        Min3 = 0.999\n",
    "        Max = 1\n",
    "        Max2 = 1\n",
    "        Max3 = 1\n",
    "    \n",
    "    \n",
    "        \n",
    "    if title == 'Lb_BPVIP':\n",
    "        Min= 0\n",
    "        Min2 = 0\n",
    "        Min3 = 0\n",
    "        Max = 0.3\n",
    "        Max2 = 0.3\n",
    "        Max3 = 0.3\n",
    "    \n",
    "    if title == 'Lb_BPVIPCHI2':\n",
    "        Min= 0\n",
    "        Min2 = 0\n",
    "        Min3 = 0\n",
    "        Max = 300\n",
    "        Max2 = 300\n",
    "        Max3 = 300\n",
    "        \n",
    "\n",
    "\n",
    "    if title == 'Lb_CHI2':\n",
    "        Min= 0\n",
    "        Min2 = 0\n",
    "        Min3 = 0\n",
    "        Max = 50\n",
    "        Max2 = 50\n",
    "        Max3 = 50\n",
    "    \n",
    "     \n",
    "    if title == 'Lb_MAXSDOCA':\n",
    "        Min= 0\n",
    "        Min2 = 0\n",
    "        Min3 = 0\n",
    "        Max = 250\n",
    "        Max2 = 250\n",
    "        Max3 = 250\n",
    "    \n",
    "    if title == 'Lb_MAXSDOCACHI2':\n",
    "        Min= 0\n",
    "        Min2 = 0\n",
    "        Min3 = 0\n",
    "        Max = 40\n",
    "        Max2 = 40\n",
    "        Max3 = 40\n",
    "    \n",
    "    if title == 'Lb_PT':\n",
    "        Min= 0\n",
    "        Min2 = 0\n",
    "        Min3 = 0\n",
    "        Max = 4e4\n",
    "        Max2 = 4e4\n",
    "        Max3 = 4e4\n",
    "        \n",
    "    if title == 'p_plus_P':\n",
    "        Min= 0\n",
    "        Min2 = 0\n",
    "        Min3 = 0\n",
    "        Max = 15000\n",
    "        Max2 = 15000\n",
    "        Max3 = 15000\n",
    "        \n",
    "    if title == 'p_plus_PID_P':\n",
    "        Min= -40\n",
    "        Min2 = -40\n",
    "        Min3 = -40\n",
    "        Max = 50\n",
    "        Max2 = 50\n",
    "        Max3 = 50\n",
    "    \n",
    "    if title == 'p_plus_PID_K':\n",
    "        Min= -40\n",
    "        Min2 = -40\n",
    "        Min3 = -40\n",
    "        Max = 50\n",
    "        Max2 = 50\n",
    "        Max3 = 50\n",
    "        \n",
    "    if title == 'p_plus_PT':\n",
    "        Min= -40\n",
    "        Min2 = -40\n",
    "        Min3 = -40\n",
    "        Max = 15000\n",
    "        Max2 = 15000\n",
    "        Max3 = 15000\n",
    "        \n",
    "    if title == 'p_plus_ETA':\n",
    "        Min= 0\n",
    "        Min2 = 0\n",
    "        Min3 = 0\n",
    "        Max = 9\n",
    "        Max2 = 9\n",
    "        Max3 = 9\n",
    "    \n",
    "    if title == 'p_plus_GHOSTPROB':\n",
    "        Min= 0\n",
    "        Min2 = 0\n",
    "        Min3 = 0\n",
    "        Max = 0.9\n",
    "        Max2 = 0.9\n",
    "        Max3 = 0.9\n",
    "        \n",
    "    plt.hist(dat,bins = 30,histtype = 'step',label = 'Combinatiorial Background', density = True, range = [Min, Max], fill = False, edgecolor = 'red' )\n",
    "    #plt.hist(dat3,bins = 30, histtype = 'step',label = 'Background', density = True, range = [Min3, Max3], fill = False, edgecolor = 'blue')\n",
    "    plt.hist(dat2,bins = 30, histtype = 'step',label = 'Signal', density = True, range = [Min2, Max2], fill = False, edgecolor = 'green')\n",
    "    plt.legend(loc = 'upper right')\n",
    "    plt.title(title)\n",
    "    filename = title\n",
    "    print(f'now saving {filename}')\n",
    "    plt.savefig(filename)\n",
    "    return"
   ]
  },
  {
   "cell_type": "markdown",
   "id": "b0591972",
   "metadata": {},
   "source": [
    "# Proton cut plots"
   ]
  },
  {
   "cell_type": "code",
   "execution_count": 21,
   "id": "6be93e6a",
   "metadata": {},
   "outputs": [
    {
     "name": "stdout",
     "output_type": "stream",
     "text": [
      "the title is p_plus_PID_P\n",
      "now saving p_plus_PID_P with cut\n",
      "the title is p_plus_PID_K\n",
      "now saving p_plus_PID_K with cut\n",
      "the title is p_plus_P\n",
      "now saving p_plus_P with cut\n",
      "the title is p_plus_PT\n",
      "now saving p_plus_PT with cut\n",
      "the title is p_plus_ETA\n",
      "now saving p_plus_ETA with cut\n",
      "the title is p_plus_GHOSTPROB\n",
      "now saving p_plus_GHOSTPROB with cut\n"
     ]
    },
    {
     "data": {
      "image/png": "[encoded data removed]",
      "text/plain": [
       "<Figure size 432x288 with 1 Axes>"
      ]
     },
     "metadata": {
      "needs_background": "light"
     },
     "output_type": "display_data"
    },
    {
     "data": {
      "image/png": "[encoded data removed]",
      "text/plain": [
       "<Figure size 432x288 with 1 Axes>"
      ]
     },
     "metadata": {
      "needs_background": "light"
     },
     "output_type": "display_data"
    },
    {
     "data": {
      "image/png": "[encoded data removed]",
      "text/plain": [
       "<Figure size 432x288 with 1 Axes>"
      ]
     },
     "metadata": {
      "needs_background": "light"
     },
     "output_type": "display_data"
    },
    {
     "data": {
      "image/png": "[encoded data removed]",
      "text/plain": [
       "<Figure size 432x288 with 1 Axes>"
      ]
     },
     "metadata": {
      "needs_background": "light"
     },
     "output_type": "display_data"
    },
    {
     "data": {
      "image/png": "[encoded data removed]",
      "text/plain": [
       "<Figure size 432x288 with 1 Axes>"
      ]
     },
     "metadata": {
      "needs_background": "light"
     },
     "output_type": "display_data"
    },
    {
     "data": {
      "image/png": "[encoded data removed]",
      "text/plain": [
       "<Figure size 432x288 with 1 Axes>"
      ]
     },
     "metadata": {
      "needs_background": "light"
     },
     "output_type": "display_data"
    },
    {
     "data": {
      "text/plain": [
       "<Figure size 432x288 with 0 Axes>"
      ]
     },
     "metadata": {},
     "output_type": "display_data"
    }
   ],
   "source": [
    "proton_data=[]\n",
    "\n",
    "for i,d in enumerate(p_cut_var):\n",
    "    proton_data.append(cut_func(d,p_min[i], p_max[i], p_cut_var))\n",
    "        \n",
    "\n",
    "   "
   ]
  },
  {
   "cell_type": "markdown",
   "id": "c9d82e98",
   "metadata": {},
   "source": [
    "# Proton w/o cuts"
   ]
  },
  {
   "cell_type": "code",
   "execution_count": 34,
   "id": "eceef06e",
   "metadata": {},
   "outputs": [
    {
     "name": "stdout",
     "output_type": "stream",
     "text": [
      "now saving p_plus_PID_P\n",
      "now saving p_plus_PID_K\n",
      "now saving p_plus_P\n",
      "now saving p_plus_PT\n",
      "now saving p_plus_ETA\n",
      "now saving p_plus_GHOSTPROB\n"
     ]
    },
    {
     "data": {
      "image/png": "[encoded data removed]",
      "text/plain": [
       "<Figure size 432x288 with 1 Axes>"
      ]
     },
     "metadata": {
      "needs_background": "light"
     },
     "output_type": "display_data"
    },
    {
     "data": {
      "image/png": "[encoded data removed]",
      "text/plain": [
       "<Figure size 432x288 with 1 Axes>"
      ]
     },
     "metadata": {
      "needs_background": "light"
     },
     "output_type": "display_data"
    },
    {
     "data": {
      "image/png": "[encoded data removed]",
      "text/plain": [
       "<Figure size 432x288 with 1 Axes>"
      ]
     },
     "metadata": {
      "needs_background": "light"
     },
     "output_type": "display_data"
    },
    {
     "data": {
      "image/png": "[encoded data removed]",
      "text/plain": [
       "<Figure size 432x288 with 1 Axes>"
      ]
     },
     "metadata": {
      "needs_background": "light"
     },
     "output_type": "display_data"
    },
    {
     "data": {
      "image/png": "[encoded data removed]",
      "text/plain": [
       "<Figure size 432x288 with 1 Axes>"
      ]
     },
     "metadata": {
      "needs_background": "light"
     },
     "output_type": "display_data"
    },
    {
     "data": {
      "image/png": "[encoded data removed]",
      "text/plain": [
       "<Figure size 432x288 with 1 Axes>"
      ]
     },
     "metadata": {
      "needs_background": "light"
     },
     "output_type": "display_data"
    },
    {
     "data": {
      "text/plain": [
       "<Figure size 432x288 with 0 Axes>"
      ]
     },
     "metadata": {},
     "output_type": "display_data"
    }
   ],
   "source": [
    "for i in range(len(p_cut_var)):\n",
    "    title = p_cut_var[i]\n",
    "    plot_hist(p_plus_bkg[i], p_plus_sig[i],title,'')\n",
    "    plt.figure()"
   ]
  },
  {
   "cell_type": "markdown",
   "id": "1ede448a",
   "metadata": {},
   "source": [
    "# Pion w/o cuts"
   ]
  },
  {
   "cell_type": "code",
   "execution_count": 36,
   "id": "831c0fe5",
   "metadata": {},
   "outputs": [
    {
     "name": "stdout",
     "output_type": "stream",
     "text": [
      "now saving pi_minus_PT\n",
      "now saving pi_minus_ETA\n",
      "now saving pi_minus_GHOSTPROB\n"
     ]
    },
    {
     "data": {
      "image/png": "[encoded data removed]",
      "text/plain": [
       "<Figure size 432x288 with 1 Axes>"
      ]
     },
     "metadata": {
      "needs_background": "light"
     },
     "output_type": "display_data"
    },
    {
     "data": {
      "image/png": "[encoded data removed]",
      "text/plain": [
       "<Figure size 432x288 with 1 Axes>"
      ]
     },
     "metadata": {
      "needs_background": "light"
     },
     "output_type": "display_data"
    },
    {
     "data": {
      "image/png": "[encoded data removed]",
      "text/plain": [
       "<Figure size 432x288 with 1 Axes>"
      ]
     },
     "metadata": {
      "needs_background": "light"
     },
     "output_type": "display_data"
    },
    {
     "data": {
      "text/plain": [
       "<Figure size 432x288 with 0 Axes>"
      ]
     },
     "metadata": {},
     "output_type": "display_data"
    }
   ],
   "source": [
    "for i in range(len(pi_minus_string)):\n",
    "    title = pi_minus_string[i]\n",
    "    plot_hist(pi_minus_bkg[i], pi_minus_sig[i], title,'')\n",
    "    plt.figure()"
   ]
  },
  {
   "cell_type": "markdown",
   "id": "3b58b7cb",
   "metadata": {},
   "source": [
    "# Pion cut plots"
   ]
  },
  {
   "cell_type": "code",
   "execution_count": 37,
   "id": "910edc25",
   "metadata": {},
   "outputs": [
    {
     "name": "stdout",
     "output_type": "stream",
     "text": [
      "the title is pi_minus_PT\n",
      "now saving pi_minus_PT with cut\n",
      "the title is pi_minus_ETA\n",
      "now saving pi_minus_ETA with cut\n",
      "the title is pi_minus_GHOSTPROB\n",
      "now saving pi_minus_GHOSTPROB with cut\n"
     ]
    },
    {
     "data": {
      "image/png": "[encoded data removed]",
      "text/plain": [
       "<Figure size 432x288 with 1 Axes>"
      ]
     },
     "metadata": {
      "needs_background": "light"
     },
     "output_type": "display_data"
    },
    {
     "data": {
      "image/png": "[encoded data removed]",
      "text/plain": [
       "<Figure size 432x288 with 1 Axes>"
      ]
     },
     "metadata": {
      "needs_background": "light"
     },
     "output_type": "display_data"
    },
    {
     "data": {
      "image/png": "[encoded data removed]",
      "text/plain": [
       "<Figure size 432x288 with 1 Axes>"
      ]
     },
     "metadata": {
      "needs_background": "light"
     },
     "output_type": "display_data"
    },
    {
     "data": {
      "text/plain": [
       "<Figure size 432x288 with 0 Axes>"
      ]
     },
     "metadata": {},
     "output_type": "display_data"
    }
   ],
   "source": [
    "pi_data=[]\n",
    "\n",
    "for i,d in enumerate(pi_cut_var):\n",
    "    pi_data.append(cut_func(d,pi_min[i], pi_max[i], pi_cut_var))"
   ]
  },
  {
   "cell_type": "markdown",
   "id": "74e4c3ec",
   "metadata": {},
   "source": [
    "# $\\Lambda^0$ cut plots"
   ]
  },
  {
   "cell_type": "code",
   "execution_count": 38,
   "id": "a850f639",
   "metadata": {},
   "outputs": [
    {
     "name": "stdout",
     "output_type": "stream",
     "text": [
      "the title is Lambda0_ETA\n",
      "now saving Lambda0_ETA with cut\n",
      "the title is Lambda0_BPVDIRA\n",
      "now saving Lambda0_BPVDIRA with cut\n",
      "the title is Lambda0_BPVFD\n",
      "now saving Lambda0_BPVFD with cut\n",
      "the title is Lambda0_BPVIP\n",
      "now saving Lambda0_BPVIP with cut\n",
      "the title is Lambda0_BPVVDRHO\n",
      "now saving Lambda0_BPVVDRHO with cut\n",
      "the title is Lambda0_BPVIPCHI2\n",
      "now saving Lambda0_BPVIPCHI2 with cut\n",
      "the title is Lambda0_MASS\n",
      "now saving Lambda0_MASS with cut\n",
      "the title is Lambda0_MAXSDOCA\n",
      "now saving Lambda0_MAXSDOCA with cut\n",
      "the title is Lambda0_MAXSDOCACHI2\n",
      "now saving Lambda0_MAXSDOCACHI2 with cut\n",
      "the title is Lambda0_CHI2\n",
      "now saving Lambda0_CHI2 with cut\n",
      "the title is Lambda0_P\n",
      "now saving Lambda0_P with cut\n"
     ]
    },
    {
     "data": {
      "image/png": "[encoded data removed]",
      "text/plain": [
       "<Figure size 432x288 with 1 Axes>"
      ]
     },
     "metadata": {
      "needs_background": "light"
     },
     "output_type": "display_data"
    },
    {
     "data": {
      "image/png": "[encoded data removed]",
      "text/plain": [
       "<Figure size 432x288 with 1 Axes>"
      ]
     },
     "metadata": {
      "needs_background": "light"
     },
     "output_type": "display_data"
    },
    {
     "data": {
      "image/png": "[encoded data removed]",
      "text/plain": [
       "<Figure size 432x288 with 1 Axes>"
      ]
     },
     "metadata": {
      "needs_background": "light"
     },
     "output_type": "display_data"
    },
    {
     "data": {
      "image/png": "[encoded data removed]",
      "text/plain": [
       "<Figure size 432x288 with 1 Axes>"
      ]
     },
     "metadata": {
      "needs_background": "light"
     },
     "output_type": "display_data"
    },
    {
     "data": {
      "image/png": "[encoded data removed]",
      "text/plain": [
       "<Figure size 432x288 with 1 Axes>"
      ]
     },
     "metadata": {
      "needs_background": "light"
     },
     "output_type": "display_data"
    },
    {
     "data": {
      "image/png": "[encoded data removed]",
      "text/plain": [
       "<Figure size 432x288 with 1 Axes>"
      ]
     },
     "metadata": {
      "needs_background": "light"
     },
     "output_type": "display_data"
    },
    {
     "data": {
      "image/png": "[encoded data removed]",
      "text/plain": [
       "<Figure size 432x288 with 1 Axes>"
      ]
     },
     "metadata": {
      "needs_background": "light"
     },
     "output_type": "display_data"
    },
    {
     "data": {
      "image/png": "[encoded data removed]",
      "text/plain": [
       "<Figure size 432x288 with 1 Axes>"
      ]
     },
     "metadata": {
      "needs_background": "light"
     },
     "output_type": "display_data"
    },
    {
     "data": {
      "image/png": "[encoded data removed]",
      "text/plain": [
       "<Figure size 432x288 with 1 Axes>"
      ]
     },
     "metadata": {
      "needs_background": "light"
     },
     "output_type": "display_data"
    },
    {
     "data": {
      "image/png": "[encoded data removed]",
      "text/plain": [
       "<Figure size 432x288 with 1 Axes>"
      ]
     },
     "metadata": {
      "needs_background": "light"
     },
     "output_type": "display_data"
    },
    {
     "data": {
      "image/png": "[encoded data removed]",
      "text/plain": [
       "<Figure size 432x288 with 1 Axes>"
      ]
     },
     "metadata": {
      "needs_background": "light"
     },
     "output_type": "display_data"
    },
    {
     "data": {
      "text/plain": [
       "<Figure size 432x288 with 0 Axes>"
      ]
     },
     "metadata": {},
     "output_type": "display_data"
    }
   ],
   "source": [
    "lamda0_data=[]\n",
    "for i,d in enumerate(lamda0_cut_var):\n",
    "    lamda0_data.append(cut_func(d,lamda0_min[i], lamda0_max[i], lamda0_cut_var))"
   ]
  },
  {
   "cell_type": "markdown",
   "id": "9c5fe98e",
   "metadata": {},
   "source": [
    "# $\\Lambda^0$ w/o cuts"
   ]
  },
  {
   "cell_type": "code",
   "execution_count": 39,
   "id": "59523c29",
   "metadata": {},
   "outputs": [
    {
     "name": "stdout",
     "output_type": "stream",
     "text": [
      "now saving Lambda0_BPVDIRA\n",
      "now saving Lambda0_BPVIPCHI2\n",
      "now saving Lambda0_BPVFD\n",
      "now saving Lambda0_BPVIP\n",
      "now saving Lambda0_BPVVDRHO\n",
      "now saving Lambda0_MAXSDOCA\n",
      "now saving Lambda0_MAXSDOCACHI2\n",
      "now saving Lambda0_MASS\n",
      "now saving Lambda0_P\n",
      "now saving Lambda0_ETA\n",
      "now saving Lambda0_CHI2\n"
     ]
    },
    {
     "data": {
      "image/png": "[encoded data removed]",
      "text/plain": [
       "<Figure size 432x288 with 1 Axes>"
      ]
     },
     "metadata": {
      "needs_background": "light"
     },
     "output_type": "display_data"
    },
    {
     "data": {
      "image/png": "[encoded data removed]",
      "text/plain": [
       "<Figure size 432x288 with 1 Axes>"
      ]
     },
     "metadata": {
      "needs_background": "light"
     },
     "output_type": "display_data"
    },
    {
     "data": {
      "image/png": "[encoded data removed]",
      "text/plain": [
       "<Figure size 432x288 with 1 Axes>"
      ]
     },
     "metadata": {
      "needs_background": "light"
     },
     "output_type": "display_data"
    },
    {
     "data": {
      "image/png": "[encoded data removed]",
      "text/plain": [
       "<Figure size 432x288 with 1 Axes>"
      ]
     },
     "metadata": {
      "needs_background": "light"
     },
     "output_type": "display_data"
    },
    {
     "data": {
      "image/png": "[encoded data removed]",
      "text/plain": [
       "<Figure size 432x288 with 1 Axes>"
      ]
     },
     "metadata": {
      "needs_background": "light"
     },
     "output_type": "display_data"
    },
    {
     "data": {
      "image/png": "[encoded data removed]",
      "text/plain": [
       "<Figure size 432x288 with 1 Axes>"
      ]
     },
     "metadata": {
      "needs_background": "light"
     },
     "output_type": "display_data"
    },
    {
     "data": {
      "image/png": "[encoded data removed]",
      "text/plain": [
       "<Figure size 432x288 with 1 Axes>"
      ]
     },
     "metadata": {
      "needs_background": "light"
     },
     "output_type": "display_data"
    },
    {
     "data": {
      "image/png": "[encoded data removed]",
      "text/plain": [
       "<Figure size 432x288 with 1 Axes>"
      ]
     },
     "metadata": {
      "needs_background": "light"
     },
     "output_type": "display_data"
    },
    {
     "data": {
      "image/png": "[encoded data removed]",
      "text/plain": [
       "<Figure size 432x288 with 1 Axes>"
      ]
     },
     "metadata": {
      "needs_background": "light"
     },
     "output_type": "display_data"
    },
    {
     "data": {
      "image/png": "[encoded data removed]",
      "text/plain": [
       "<Figure size 432x288 with 1 Axes>"
      ]
     },
     "metadata": {
      "needs_background": "light"
     },
     "output_type": "display_data"
    },
    {
     "data": {
      "image/png": "[encoded data removed]",
      "text/plain": [
       "<Figure size 432x288 with 1 Axes>"
      ]
     },
     "metadata": {
      "needs_background": "light"
     },
     "output_type": "display_data"
    },
    {
     "data": {
      "text/plain": [
       "<Figure size 432x288 with 0 Axes>"
      ]
     },
     "metadata": {},
     "output_type": "display_data"
    }
   ],
   "source": [
    "for i in range(len(lamda0_string)):\n",
    "    title = lamda0_string[i]\n",
    "    plot_hist(lamda0_bkg[i], lamda0_sig[i], title, '')\n",
    "    plt.figure()"
   ]
  },
  {
   "cell_type": "markdown",
   "id": "c888deaf",
   "metadata": {},
   "source": [
    "# $\\Lambda_b$ with cuts"
   ]
  },
  {
   "cell_type": "code",
   "execution_count": 40,
   "id": "c12c3d3b",
   "metadata": {},
   "outputs": [
    {
     "name": "stdout",
     "output_type": "stream",
     "text": [
      "the title is Lb_BPVDIRA\n",
      "now saving Lb_BPVDIRA with cut\n",
      "the title is Lb_BPVIP\n",
      "now saving Lb_BPVIP with cut\n",
      "the title is Lb_BPVIPCHI2\n",
      "now saving Lb_BPVIPCHI2 with cut\n",
      "the title is Lb_MAXSDOCA\n",
      "now saving Lb_MAXSDOCA with cut\n",
      "the title is Lb_MAXSDOCACHI2\n",
      "now saving Lb_MAXSDOCACHI2 with cut\n",
      "the title is Lb_CHI2\n",
      "now saving Lb_CHI2 with cut\n",
      "the title is Lb_PT\n",
      "now saving Lb_PT with cut\n",
      "the title is Lb_MASS\n",
      "now saving Lb_MASS with cut\n"
     ]
    },
    {
     "data": {
      "image/png": "[encoded data removed]",
      "text/plain": [
       "<Figure size 432x288 with 1 Axes>"
      ]
     },
     "metadata": {
      "needs_background": "light"
     },
     "output_type": "display_data"
    },
    {
     "data": {
      "image/png": "[encoded data removed]",
      "text/plain": [
       "<Figure size 432x288 with 1 Axes>"
      ]
     },
     "metadata": {
      "needs_background": "light"
     },
     "output_type": "display_data"
    },
    {
     "data": {
      "image/png": "[encoded data removed]",
      "text/plain": [
       "<Figure size 432x288 with 1 Axes>"
      ]
     },
     "metadata": {
      "needs_background": "light"
     },
     "output_type": "display_data"
    },
    {
     "data": {
      "image/png": "[encoded data removed]",
      "text/plain": [
       "<Figure size 432x288 with 1 Axes>"
      ]
     },
     "metadata": {
      "needs_background": "light"
     },
     "output_type": "display_data"
    },
    {
     "data": {
      "image/png": "[encoded data removed]",
      "text/plain": [
       "<Figure size 432x288 with 1 Axes>"
      ]
     },
     "metadata": {
      "needs_background": "light"
     },
     "output_type": "display_data"
    },
    {
     "data": {
      "image/png": "[encoded data removed]",
      "text/plain": [
       "<Figure size 432x288 with 1 Axes>"
      ]
     },
     "metadata": {
      "needs_background": "light"
     },
     "output_type": "display_data"
    },
    {
     "data": {
      "image/png": "[encoded data removed]",
      "text/plain": [
       "<Figure size 432x288 with 1 Axes>"
      ]
     },
     "metadata": {
      "needs_background": "light"
     },
     "output_type": "display_data"
    },
    {
     "data": {
      "image/png": "[encoded data removed]",
      "text/plain": [
       "<Figure size 432x288 with 1 Axes>"
      ]
     },
     "metadata": {
      "needs_background": "light"
     },
     "output_type": "display_data"
    },
    {
     "data": {
      "text/plain": [
       "<Figure size 432x288 with 0 Axes>"
      ]
     },
     "metadata": {},
     "output_type": "display_data"
    }
   ],
   "source": [
    "lamdab_data=[]\n",
    "for i,d in enumerate(lb_cut_var):\n",
    "    lamdab_data.append(cut_func(d,lb_min[i], lb_max[i], lb_cut_var))"
   ]
  },
  {
   "cell_type": "markdown",
   "id": "e54a62e5",
   "metadata": {},
   "source": [
    "# $\\Lambda_b$ w/o cuts"
   ]
  },
  {
   "cell_type": "code",
   "execution_count": 42,
   "id": "fe123eb8",
   "metadata": {},
   "outputs": [
    {
     "name": "stdout",
     "output_type": "stream",
     "text": [
      "now saving Lb_BPVDIRA\n",
      "now saving Lb_BPVIP\n",
      "now saving Lb_BPVIPCHI2\n",
      "now saving Lb_MAXSDOCA\n",
      "now saving Lb_MAXSDOCACHI2\n",
      "now saving Lb_CHI2\n",
      "now saving Lb_PT\n"
     ]
    },
    {
     "ename": "UnboundLocalError",
     "evalue": "local variable 'Min' referenced before assignment",
     "output_type": "error",
     "traceback": [
      "\u001b[0;31m---------------------------------------------------------------------------\u001b[0m",
      "\u001b[0;31mUnboundLocalError\u001b[0m                         Traceback (most recent call last)",
      "\u001b[0;32m/tmp/ipykernel_518/444970067.py\u001b[0m in \u001b[0;36m<module>\u001b[0;34m\u001b[0m\n\u001b[1;32m      1\u001b[0m \u001b[0;32mfor\u001b[0m \u001b[0mi\u001b[0m\u001b[0;34m,\u001b[0m\u001b[0md\u001b[0m \u001b[0;32min\u001b[0m \u001b[0menumerate\u001b[0m\u001b[0;34m(\u001b[0m\u001b[0mlamdab_string\u001b[0m\u001b[0;34m)\u001b[0m\u001b[0;34m:\u001b[0m\u001b[0;34m\u001b[0m\u001b[0;34m\u001b[0m\u001b[0m\n\u001b[1;32m      2\u001b[0m     \u001b[0mtitle\u001b[0m \u001b[0;34m=\u001b[0m \u001b[0mlamdab_string\u001b[0m\u001b[0;34m[\u001b[0m\u001b[0mi\u001b[0m\u001b[0;34m]\u001b[0m\u001b[0;34m\u001b[0m\u001b[0;34m\u001b[0m\u001b[0m\n\u001b[0;32m----> 3\u001b[0;31m     \u001b[0mplot_hist\u001b[0m\u001b[0;34m(\u001b[0m\u001b[0mlamdab_bkg\u001b[0m\u001b[0;34m[\u001b[0m\u001b[0mi\u001b[0m\u001b[0;34m]\u001b[0m\u001b[0;34m,\u001b[0m \u001b[0mlamdab_signal\u001b[0m\u001b[0;34m[\u001b[0m\u001b[0mi\u001b[0m\u001b[0;34m]\u001b[0m\u001b[0;34m,\u001b[0m \u001b[0mtitle\u001b[0m\u001b[0;34m,\u001b[0m\u001b[0;34m''\u001b[0m\u001b[0;34m)\u001b[0m\u001b[0;34m\u001b[0m\u001b[0;34m\u001b[0m\u001b[0m\n\u001b[0m\u001b[1;32m      4\u001b[0m     \u001b[0mplt\u001b[0m\u001b[0;34m.\u001b[0m\u001b[0mfigure\u001b[0m\u001b[0;34m(\u001b[0m\u001b[0;34m)\u001b[0m\u001b[0;34m\u001b[0m\u001b[0;34m\u001b[0m\u001b[0m\n",
      "\u001b[0;32m/tmp/ipykernel_518/387482613.py\u001b[0m in \u001b[0;36mplot_hist\u001b[0;34m(dat, dat2, title, xlabel)\u001b[0m\n\u001b[1;32m    232\u001b[0m         \u001b[0mMax3\u001b[0m \u001b[0;34m=\u001b[0m \u001b[0;36m0.9\u001b[0m\u001b[0;34m\u001b[0m\u001b[0;34m\u001b[0m\u001b[0m\n\u001b[1;32m    233\u001b[0m \u001b[0;34m\u001b[0m\u001b[0m\n\u001b[0;32m--> 234\u001b[0;31m     \u001b[0mplt\u001b[0m\u001b[0;34m.\u001b[0m\u001b[0mhist\u001b[0m\u001b[0;34m(\u001b[0m\u001b[0mdat\u001b[0m\u001b[0;34m,\u001b[0m\u001b[0mbins\u001b[0m \u001b[0;34m=\u001b[0m \u001b[0;36m30\u001b[0m\u001b[0;34m,\u001b[0m\u001b[0mhisttype\u001b[0m \u001b[0;34m=\u001b[0m \u001b[0;34m'step'\u001b[0m\u001b[0;34m,\u001b[0m\u001b[0mlabel\u001b[0m \u001b[0;34m=\u001b[0m \u001b[0;34m'Combinatiorial Background'\u001b[0m\u001b[0;34m,\u001b[0m \u001b[0mdensity\u001b[0m \u001b[0;34m=\u001b[0m \u001b[0;32mTrue\u001b[0m\u001b[0;34m,\u001b[0m \u001b[0mrange\u001b[0m \u001b[0;34m=\u001b[0m \u001b[0;34m[\u001b[0m\u001b[0mMin\u001b[0m\u001b[0;34m,\u001b[0m \u001b[0mMax\u001b[0m\u001b[0;34m]\u001b[0m\u001b[0;34m,\u001b[0m \u001b[0mfill\u001b[0m \u001b[0;34m=\u001b[0m \u001b[0;32mFalse\u001b[0m\u001b[0;34m,\u001b[0m \u001b[0medgecolor\u001b[0m \u001b[0;34m=\u001b[0m \u001b[0;34m'red'\u001b[0m \u001b[0;34m)\u001b[0m\u001b[0;34m\u001b[0m\u001b[0;34m\u001b[0m\u001b[0m\n\u001b[0m\u001b[1;32m    235\u001b[0m     \u001b[0;31m#plt.hist(dat3,bins = 30, histtype = 'step',label = 'Background', density = True, range = [Min3, Max3], fill = False, edgecolor = 'blue')\u001b[0m\u001b[0;34m\u001b[0m\u001b[0;34m\u001b[0m\u001b[0m\n\u001b[1;32m    236\u001b[0m     \u001b[0mplt\u001b[0m\u001b[0;34m.\u001b[0m\u001b[0mhist\u001b[0m\u001b[0;34m(\u001b[0m\u001b[0mdat2\u001b[0m\u001b[0;34m,\u001b[0m\u001b[0mbins\u001b[0m \u001b[0;34m=\u001b[0m \u001b[0;36m30\u001b[0m\u001b[0;34m,\u001b[0m \u001b[0mhisttype\u001b[0m \u001b[0;34m=\u001b[0m \u001b[0;34m'step'\u001b[0m\u001b[0;34m,\u001b[0m\u001b[0mlabel\u001b[0m \u001b[0;34m=\u001b[0m \u001b[0;34m'Signal'\u001b[0m\u001b[0;34m,\u001b[0m \u001b[0mdensity\u001b[0m \u001b[0;34m=\u001b[0m \u001b[0;32mTrue\u001b[0m\u001b[0;34m,\u001b[0m \u001b[0mrange\u001b[0m \u001b[0;34m=\u001b[0m \u001b[0;34m[\u001b[0m\u001b[0mMin2\u001b[0m\u001b[0;34m,\u001b[0m \u001b[0mMax2\u001b[0m\u001b[0;34m]\u001b[0m\u001b[0;34m,\u001b[0m \u001b[0mfill\u001b[0m \u001b[0;34m=\u001b[0m \u001b[0;32mFalse\u001b[0m\u001b[0;34m,\u001b[0m \u001b[0medgecolor\u001b[0m \u001b[0;34m=\u001b[0m \u001b[0;34m'green'\u001b[0m\u001b[0;34m)\u001b[0m\u001b[0;34m\u001b[0m\u001b[0;34m\u001b[0m\u001b[0m\n",
      "\u001b[0;31mUnboundLocalError\u001b[0m: local variable 'Min' referenced before assignment"
     ]
    },
    {
     "data": {
      "image/png": "[encoded data removed]",
      "text/plain": [
       "<Figure size 432x288 with 1 Axes>"
      ]
     },
     "metadata": {
      "needs_background": "light"
     },
     "output_type": "display_data"
    },
    {
     "data": {
      "image/png": "[encoded data removed]",
      "text/plain": [
       "<Figure size 432x288 with 1 Axes>"
      ]
     },
     "metadata": {
      "needs_background": "light"
     },
     "output_type": "display_data"
    },
    {
     "data": {
      "image/png": "[encoded data removed]",
      "text/plain": [
       "<Figure size 432x288 with 1 Axes>"
      ]
     },
     "metadata": {
      "needs_background": "light"
     },
     "output_type": "display_data"
    },
    {
     "data": {
      "image/png": "[encoded data removed]",
      "text/plain": [
       "<Figure size 432x288 with 1 Axes>"
      ]
     },
     "metadata": {
      "needs_background": "light"
     },
     "output_type": "display_data"
    },
    {
     "data": {
      "image/png": "[encoded data removed]",
      "text/plain": [
       "<Figure size 432x288 with 1 Axes>"
      ]
     },
     "metadata": {
      "needs_background": "light"
     },
     "output_type": "display_data"
    },
    {
     "data": {
      "image/png": "[encoded data removed]",
      "text/plain": [
       "<Figure size 432x288 with 1 Axes>"
      ]
     },
     "metadata": {
      "needs_background": "light"
     },
     "output_type": "display_data"
    },
    {
     "data": {
      "image/png": "[encoded data removed]",
      "text/plain": [
       "<Figure size 432x288 with 1 Axes>"
      ]
     },
     "metadata": {
      "needs_background": "light"
     },
     "output_type": "display_data"
    },
    {
     "data": {
      "text/plain": [
       "<Figure size 432x288 with 0 Axes>"
      ]
     },
     "metadata": {},
     "output_type": "display_data"
    }
   ],
   "source": [
    "for i,d in enumerate(lamdab_string):\n",
    "    title = lamdab_string[i]\n",
    "    plot_hist(lamdab_bkg[i], lamdab_signal[i], title,'')\n",
    "    plt.figure()"
   ]
  },
  {
   "cell_type": "markdown",
   "id": "5d953fba",
   "metadata": {},
   "source": [
    "# Topological Efficiencies"
   ]
  },
  {
   "cell_type": "code",
   "execution_count": 47,
   "id": "485849e0",
   "metadata": {},
   "outputs": [],
   "source": [
    "signal_events_uniq = signal_data['EVENTNUMBER'].unique()"
   ]
  },
  {
   "cell_type": "code",
   "execution_count": 48,
   "id": "b09914aa",
   "metadata": {},
   "outputs": [],
   "source": [
    "bkg_events_uniq = bkg_data['EVENTNUMBER'].unique()"
   ]
  },
  {
   "cell_type": "code",
   "execution_count": 49,
   "id": "7a007002",
   "metadata": {},
   "outputs": [],
   "source": [
    "minbias_events_uniq = minbias_data['EVENTNUMBER'].unique()"
   ]
  },
  {
   "cell_type": "code",
   "execution_count": 19,
   "id": "b56ec300",
   "metadata": {},
   "outputs": [],
   "source": [
    "def get_eff():\n",
    "    \n",
    "    for i,d in enumerate(p_cut_var):\n",
    "        cut_data(d,p_min[i], p_max[i])\n",
    "    sig_p = len(signal_data['EVENTNUMBER'].unique())\n",
    "    bkg_p = len(bkg_data['EVENTNUMBER'].unique())\n",
    "    minbias_p = len(minbias_data['EVENTNUMBER'].unique())\n",
    "        \n",
    "    for i,d in enumerate(pi_cut_var):\n",
    "        cut_data(d, pi_min[i], pi_max[i])\n",
    "    sig_pi = len(signal_data['EVENTNUMBER'].unique())\n",
    "    bkg_pi = len(bkg_data['EVENTNUMBER'].unique())\n",
    "    minbias_pi = len(minbias_data['EVENTNUMBER'].unique())\n",
    "    \n",
    "    for i,d in enumerate(lamda0_cut_var):\n",
    "        l0_cuts = cut_data(d, lamda0_min[i], lamda0_max[i])\n",
    "    sig_l0 = len(signal_data['EVENTNUMBER'].unique())\n",
    "    bkg_l0 = len(bkg_data['EVENTNUMBER'].unique())\n",
    "    minbias_l0 = len(minbias_data['EVENTNUMBER'].unique())\n",
    "        \n",
    "    for i,d in enumerate(lb_cut_var):\n",
    "        lb_cuts = cut_data(d, lb_min[i], lb_max[i])\n",
    "    sig_lb = len(signal_data['EVENTNUMBER'].unique())\n",
    "    bkg_lb = len(bkg_data['EVENTNUMBER'].unique())\n",
    "    minbias_lb = len(minbias_data['EVENTNUMBER'].unique())\n",
    "    \n",
    "    \n",
    "    track_sig_eff = ((sig_pi)/len(signal_events_uniq)) *100\n",
    "    track_bkg_eff = 100 - ((bkg_pi)/len(bkg_events_uniq))*100\n",
    "    track_minbias_eff = 100 - ((minbias_pi)/len(minbias_events_uniq))*100\n",
    "    \n",
    "    \n",
    "    \n",
    "    cumul_sig_eff = (sig_lb)/(len(signal_events_uniq)) *100\n",
    "    cumul_bkg_eff = 100 - ((bkg_lb)/(len(bkg_events_uniq))*100)\n",
    "    cumul_minbias_eff = 100 - ((minbias_lb)/(len(minbias_events_uniq))*100) \n",
    "    \n",
    "    return cumul_sig_eff, cumul_bkg_eff, cumul_minbias_eff, f'Track:', track_sig_eff, track_bkg_eff, track_minbias_eff\n",
    "    \n",
    "    "
   ]
  },
  {
   "cell_type": "code",
   "execution_count": 24,
   "id": "e9c3cd9b",
   "metadata": {},
   "outputs": [
    {
     "data": {
      "text/plain": [
       "(91.02132435465768,\n",
       " 97.258183051614,\n",
       " 96.92307692307692,\n",
       " 'Track:',\n",
       " 97.3063973063973,\n",
       " 22.99734298151394,\n",
       " 7.692307692307693)"
      ]
     },
     "execution_count": 24,
     "metadata": {},
     "output_type": "execute_result"
    }
   ],
   "source": [
    "get_eff()"
   ]
  },
  {
   "cell_type": "code",
   "execution_count": null,
   "id": "325d714a",
   "metadata": {},
   "outputs": [],
   "source": []
  },
  {
   "cell_type": "code",
   "execution_count": 59,
   "id": "fa9ef1ab",
   "metadata": {},
   "outputs": [
    {
     "data": {
      "text/plain": [
       "' signal events : 893, bkg events : 697451, minbias_events : 8148'"
      ]
     },
     "execution_count": 59,
     "metadata": {},
     "output_type": "execute_result"
    }
   ],
   "source": [
    "f' signal events : {len(signal_data)}, bkg events : {len(bkg_data)}, minbias_events : {len(minbias_data)}'"
   ]
  },
  {
   "cell_type": "code",
   "execution_count": null,
   "id": "5087894f",
   "metadata": {},
   "outputs": [],
   "source": []
  },
  {
   "cell_type": "code",
   "execution_count": 60,
   "id": "6a0df7e0",
   "metadata": {
    "scrolled": true
   },
   "outputs": [],
   "source": [
    "for i,d in enumerate(p_cut_var):\n",
    "    cut_data(d,p_min[i], p_max[i])\n",
    "    "
   ]
  },
  {
   "cell_type": "code",
   "execution_count": 61,
   "id": "69836b7b",
   "metadata": {},
   "outputs": [
    {
     "data": {
      "text/plain": [
       "' signal events : 885, bkg events : 221648, minbias_events : 1608'"
      ]
     },
     "execution_count": 61,
     "metadata": {},
     "output_type": "execute_result"
    }
   ],
   "source": [
    "f' signal events : {len(signal_data)}, bkg events : {len(bkg_data)}, minbias_events : {len(minbias_data)}'"
   ]
  },
  {
   "cell_type": "code",
   "execution_count": null,
   "id": "1c8db9f9",
   "metadata": {},
   "outputs": [],
   "source": []
  },
  {
   "cell_type": "code",
   "execution_count": 62,
   "id": "02a37e48",
   "metadata": {},
   "outputs": [],
   "source": [
    "for i,d in enumerate(pi_cut_var):\n",
    "    cut_data(d, pi_min[i], pi_max[i])"
   ]
  },
  {
   "cell_type": "code",
   "execution_count": 63,
   "id": "797b8a7d",
   "metadata": {},
   "outputs": [
    {
     "data": {
      "text/plain": [
       "' signal events : 868, bkg events : 161223, minbias_events : 681'"
      ]
     },
     "execution_count": 63,
     "metadata": {},
     "output_type": "execute_result"
    }
   ],
   "source": [
    "f' signal events : {len(signal_data)}, bkg events : {len(bkg_data)}, minbias_events : {len(minbias_data)}'"
   ]
  },
  {
   "cell_type": "code",
   "execution_count": null,
   "id": "aa8c3d22",
   "metadata": {},
   "outputs": [],
   "source": []
  },
  {
   "cell_type": "code",
   "execution_count": 134,
   "id": "238406c7",
   "metadata": {},
   "outputs": [
    {
     "data": {
      "text/plain": [
       "916"
      ]
     },
     "execution_count": 134,
     "metadata": {},
     "output_type": "execute_result"
    }
   ],
   "source": [
    "len(signal_data['p_plus_PT'])"
   ]
  },
  {
   "cell_type": "code",
   "execution_count": 88,
   "id": "e2fc762d",
   "metadata": {},
   "outputs": [],
   "source": [
    "proton_eff_data=[]\n",
    "for i,d in enumerate(p_cut_var):\n",
    "    proton_eff_data.append(cut_func_info(d,p_min[i], p_max[i]))\n",
    "\n"
   ]
  },
  {
   "cell_type": "code",
   "execution_count": 89,
   "id": "2deb9668",
   "metadata": {},
   "outputs": [],
   "source": [
    "proton_info_arr = np.array(proton_eff_data)"
   ]
  },
  {
   "cell_type": "code",
   "execution_count": 90,
   "id": "03f844e6",
   "metadata": {},
   "outputs": [
    {
     "data": {
      "text/plain": [
       "array([[  1195,   1202, 479844, 516698,   5525,   5545],\n",
       "       [  1200,   1202, 480751, 516698,   5524,   5545],\n",
       "       [  1201,   1202, 353110, 516698,   3770,   5545],\n",
       "       [  1198,   1202, 426040, 516698,   4567,   5545],\n",
       "       [  1199,   1202, 495405, 516698,   5307,   5545],\n",
       "       [  1201,   1202, 351563, 516698,   2104,   5545]])"
      ]
     },
     "execution_count": 90,
     "metadata": {},
     "output_type": "execute_result"
    }
   ],
   "source": [
    "proton_info_arr"
   ]
  },
  {
   "cell_type": "code",
   "execution_count": 91,
   "id": "d0d1f43d",
   "metadata": {},
   "outputs": [],
   "source": [
    "proton_eff_dats = np.sum(proton_info_arr, 0)"
   ]
  },
  {
   "cell_type": "code",
   "execution_count": 92,
   "id": "82e3a5f4",
   "metadata": {},
   "outputs": [
    {
     "data": {
      "text/plain": [
       "array([   7194,    7212, 2586713, 3100188,   26797,   33270])"
      ]
     },
     "execution_count": 92,
     "metadata": {},
     "output_type": "execute_result"
    }
   ],
   "source": [
    "proton_eff_dats"
   ]
  },
  {
   "cell_type": "code",
   "execution_count": 93,
   "id": "1de7488c",
   "metadata": {},
   "outputs": [],
   "source": [
    "proton_eff = ([(proton_eff_dats[0] / proton_eff_dats[1])*100, (proton_eff_dats[2] / proton_eff_dats[3])*100, (proton_eff_dats[4] / proton_eff_dats[5])*100])"
   ]
  },
  {
   "cell_type": "code",
   "execution_count": 94,
   "id": "151503fe",
   "metadata": {},
   "outputs": [
    {
     "data": {
      "text/plain": [
       "[99.7504159733777, 83.43729477051069, 80.54403366396153]"
      ]
     },
     "execution_count": 94,
     "metadata": {},
     "output_type": "execute_result"
    }
   ],
   "source": [
    "proton_eff"
   ]
  },
  {
   "cell_type": "code",
   "execution_count": 59,
   "id": "f9f35da4",
   "metadata": {},
   "outputs": [],
   "source": [
    "proton_data = []\n",
    "for i,d in enumerate(p_cut_var):\n",
    "    proton_data.append(cut_func(d,p_min[i],p_max[i]))"
   ]
  },
  {
   "cell_type": "code",
   "execution_count": 60,
   "id": "c4a4dedb",
   "metadata": {},
   "outputs": [
    {
     "data": {
      "text/plain": [
       "array([[ 99.55,   6.59,   0.36],\n",
       "       [100.  ,   6.46,   0.34],\n",
       "       [100.  ,  37.26,  40.03],\n",
       "       [ 99.89,  17.28,  16.81],\n",
       "       [ 99.78,   3.62,   3.55],\n",
       "       [ 99.89,  32.22,  61.79]])"
      ]
     },
     "execution_count": 60,
     "metadata": {},
     "output_type": "execute_result"
    }
   ],
   "source": [
    "np.round(proton_data,2)"
   ]
  },
  {
   "cell_type": "code",
   "execution_count": 31,
   "id": "97734155",
   "metadata": {},
   "outputs": [],
   "source": [
    "pion_eff_data=[]\n",
    "for i,d in enumerate(pi_cut_var):\n",
    "    pion_eff_data.append(cut_func_info(d,pi_min[i], pi_max[i]))\n",
    "\n"
   ]
  },
  {
   "cell_type": "code",
   "execution_count": 32,
   "id": "b8b5a55e",
   "metadata": {},
   "outputs": [],
   "source": [
    "pion_info_arr = np.array(pion_eff_data)"
   ]
  },
  {
   "cell_type": "code",
   "execution_count": 33,
   "id": "bca591d9",
   "metadata": {},
   "outputs": [],
   "source": [
    "pion_eff_dats = np.sum(pion_info_arr, 0)"
   ]
  },
  {
   "cell_type": "code",
   "execution_count": 34,
   "id": "3eac175d",
   "metadata": {},
   "outputs": [
    {
     "data": {
      "text/plain": [
       "array([   2705,    2748, 1438343, 1658328,   11955,   15699])"
      ]
     },
     "execution_count": 34,
     "metadata": {},
     "output_type": "execute_result"
    }
   ],
   "source": [
    "pion_eff_dats"
   ]
  },
  {
   "cell_type": "code",
   "execution_count": 35,
   "id": "fd227f53",
   "metadata": {},
   "outputs": [],
   "source": [
    "pion_eff = ([(pion_eff_dats[0] / pion_eff_dats[1])*100, (pion_eff_dats[2] / pion_eff_dats[3])*100, (pion_eff_dats[4] / pion_eff_dats[5])*100])"
   ]
  },
  {
   "cell_type": "code",
   "execution_count": 36,
   "id": "68a5259f",
   "metadata": {},
   "outputs": [
    {
     "data": {
      "text/plain": [
       "[98.43522561863173, 86.73453020150417, 76.15134721956812]"
      ]
     },
     "execution_count": 36,
     "metadata": {},
     "output_type": "execute_result"
    }
   ],
   "source": [
    "pion_eff"
   ]
  },
  {
   "cell_type": "code",
   "execution_count": 37,
   "id": "82368ac1",
   "metadata": {},
   "outputs": [],
   "source": [
    "top_eff_dats = proton_eff_dats + pion_eff_dats"
   ]
  },
  {
   "cell_type": "code",
   "execution_count": 38,
   "id": "f1ea24fb",
   "metadata": {},
   "outputs": [],
   "source": [
    "top_eff = ([(top_eff_dats[0] / top_eff_dats[1])*100, (top_eff_dats[2] / top_eff_dats[3])*100, (top_eff_dats[4] / top_eff_dats[5])*100])"
   ]
  },
  {
   "cell_type": "code",
   "execution_count": 39,
   "id": "f8acb244",
   "metadata": {},
   "outputs": [
    {
     "data": {
      "text/plain": [
       "array([99.38, 84.65, 78.89])"
      ]
     },
     "execution_count": 39,
     "metadata": {},
     "output_type": "execute_result"
    }
   ],
   "source": [
    "np.round(top_eff,2)"
   ]
  },
  {
   "cell_type": "markdown",
   "id": "fadef4f2",
   "metadata": {},
   "source": [
    "# Vertexing-related Efficiencies"
   ]
  },
  {
   "cell_type": "code",
   "execution_count": 80,
   "id": "a4da8844",
   "metadata": {},
   "outputs": [
    {
     "data": {
      "text/plain": [
       "' signal events : 893, bkg events : 697451, minbias_events : 8148'"
      ]
     },
     "execution_count": 80,
     "metadata": {},
     "output_type": "execute_result"
    }
   ],
   "source": [
    "f' signal events : {len(signal_data)}, bkg events : {len(bkg_data)}, minbias_events : {len(minbias_data)}'"
   ]
  },
  {
   "cell_type": "code",
   "execution_count": 41,
   "id": "e9b35d81",
   "metadata": {},
   "outputs": [],
   "source": [
    "for i,d in enumerate(lamda0_cut_var):\n",
    "    cut_data(d, lamda0_min[i], lamda0_max[i])"
   ]
  },
  {
   "cell_type": "code",
   "execution_count": 82,
   "id": "4703ef57",
   "metadata": {},
   "outputs": [
    {
     "data": {
      "text/plain": [
       "' signal events : 869, bkg events : 8953, minbias_events : 86'"
      ]
     },
     "execution_count": 82,
     "metadata": {},
     "output_type": "execute_result"
    }
   ],
   "source": [
    "f' signal events : {len(signal_data)}, bkg events : {len(bkg_data)}, minbias_events : {len(minbias_data)}'"
   ]
  },
  {
   "cell_type": "code",
   "execution_count": null,
   "id": "4252a3ed",
   "metadata": {},
   "outputs": [],
   "source": []
  },
  {
   "cell_type": "code",
   "execution_count": 45,
   "id": "f7705494",
   "metadata": {},
   "outputs": [
    {
     "data": {
      "text/plain": [
       "' signal events : 867, bkg events : 4774, minbias_events : 21'"
      ]
     },
     "execution_count": 45,
     "metadata": {},
     "output_type": "execute_result"
    }
   ],
   "source": [
    "f' signal events : {len(signal_events_uniq)}, bkg events : {len(bkg_events_uniq)}, minbias_events : {len(minbias_events_uniq)}'"
   ]
  },
  {
   "cell_type": "code",
   "execution_count": null,
   "id": "0fa17f03",
   "metadata": {},
   "outputs": [],
   "source": []
  },
  {
   "cell_type": "code",
   "execution_count": 46,
   "id": "0ae359e7",
   "metadata": {},
   "outputs": [],
   "source": [
    "for i,d in enumerate(lb_cut_var):\n",
    "    cut_data(d, lb_min[i], lb_max[i])"
   ]
  },
  {
   "cell_type": "code",
   "execution_count": 84,
   "id": "e307ac3a",
   "metadata": {},
   "outputs": [
    {
     "data": {
      "text/plain": [
       "' signal events : 836, bkg events : 2721, minbias_events : 14'"
      ]
     },
     "execution_count": 84,
     "metadata": {},
     "output_type": "execute_result"
    }
   ],
   "source": [
    "f' signal events : {len(signal_data)}, bkg events : {len(bkg_data)}, minbias_events : {len(minbias_data)}'"
   ]
  },
  {
   "cell_type": "code",
   "execution_count": null,
   "id": "3fd79cec",
   "metadata": {},
   "outputs": [],
   "source": []
  },
  {
   "cell_type": "code",
   "execution_count": 50,
   "id": "7f72ece3",
   "metadata": {},
   "outputs": [
    {
     "data": {
      "text/plain": [
       "' signal events : 834, bkg events : 1885, minbias_events : 4'"
      ]
     },
     "execution_count": 50,
     "metadata": {},
     "output_type": "execute_result"
    }
   ],
   "source": [
    "f' signal events : {len(signal_events_uniq)}, bkg events : {len(bkg_events_uniq)}, minbias_events : {len(minbias_events_uniq)}'"
   ]
  },
  {
   "cell_type": "code",
   "execution_count": null,
   "id": "df9e8404",
   "metadata": {},
   "outputs": [],
   "source": []
  },
  {
   "cell_type": "code",
   "execution_count": 40,
   "id": "176e4f4d",
   "metadata": {},
   "outputs": [],
   "source": [
    "l0_eff_data=[]\n",
    "for i,d in enumerate(lamda0_cut_var):\n",
    "    l0_eff_data.append(cut_func_info(d,lamda0_min[i], lamda0_max[i]))\n",
    "\n"
   ]
  },
  {
   "cell_type": "code",
   "execution_count": 41,
   "id": "c9406f1d",
   "metadata": {},
   "outputs": [],
   "source": [
    "l0_info_arr = np.array(l0_eff_data)\n",
    "\n",
    "l0_eff_dats = np.sum(l0_info_arr, 0)"
   ]
  },
  {
   "cell_type": "code",
   "execution_count": 42,
   "id": "416cdb4d",
   "metadata": {},
   "outputs": [
    {
     "data": {
      "text/plain": [
       "array([  10049,   10076, 3100293, 6080536,   28868,   57563])"
      ]
     },
     "execution_count": 42,
     "metadata": {},
     "output_type": "execute_result"
    }
   ],
   "source": [
    "l0_eff_dats"
   ]
  },
  {
   "cell_type": "code",
   "execution_count": 43,
   "id": "03db82ea",
   "metadata": {},
   "outputs": [],
   "source": [
    "l0_eff = ([(l0_eff_dats[0] / l0_eff_dats[1])*100, (l0_eff_dats[2] / l0_eff_dats[3])*100, (l0_eff_dats[4] / l0_eff_dats[5])*100])"
   ]
  },
  {
   "cell_type": "code",
   "execution_count": 44,
   "id": "567d0a5e",
   "metadata": {},
   "outputs": [
    {
     "data": {
      "text/plain": [
       "[99.73203652242954, 50.987166262974185, 50.150270138804444]"
      ]
     },
     "execution_count": 44,
     "metadata": {},
     "output_type": "execute_result"
    }
   ],
   "source": [
    "l0_eff"
   ]
  },
  {
   "cell_type": "code",
   "execution_count": 45,
   "id": "6868b661",
   "metadata": {},
   "outputs": [],
   "source": [
    "lb_eff_data=[]\n",
    "for i,d in enumerate(lb_cut_var):\n",
    "    lb_eff_data.append(cut_func_info(d,lb_min[i], lb_max[i]))\n",
    "\n"
   ]
  },
  {
   "cell_type": "code",
   "execution_count": 46,
   "id": "c78c89bd",
   "metadata": {},
   "outputs": [],
   "source": [
    "lb_info_arr = np.array(lb_eff_data)\n",
    "\n",
    "lb_eff_dats = np.sum(lb_info_arr, 0)"
   ]
  },
  {
   "cell_type": "code",
   "execution_count": 47,
   "id": "ef6bef53",
   "metadata": {},
   "outputs": [],
   "source": [
    "lb_eff = ([(lb_eff_dats[0] / lb_eff_dats[1])*100, (lb_eff_dats[2] / lb_eff_dats[3])*100, (lb_eff_dats[4] / lb_eff_dats[5])*100])"
   ]
  },
  {
   "cell_type": "code",
   "execution_count": 48,
   "id": "3b867d7c",
   "metadata": {},
   "outputs": [
    {
     "data": {
      "text/plain": [
       "[99.04475982532752, 54.66355268680261, 52.14981845977451]"
      ]
     },
     "execution_count": 48,
     "metadata": {},
     "output_type": "execute_result"
    }
   ],
   "source": [
    "lb_eff"
   ]
  },
  {
   "cell_type": "code",
   "execution_count": 49,
   "id": "c2828bbc",
   "metadata": {},
   "outputs": [],
   "source": [
    "vertex_eff_dats = l0_eff_dats + lb_eff_dats"
   ]
  },
  {
   "cell_type": "code",
   "execution_count": 50,
   "id": "658aa7bb",
   "metadata": {},
   "outputs": [
    {
     "data": {
      "text/plain": [
       "array([   17307,    17404,  5517629, 10502744,    50700,    99427])"
      ]
     },
     "execution_count": 50,
     "metadata": {},
     "output_type": "execute_result"
    }
   ],
   "source": [
    "vertex_eff_dats"
   ]
  },
  {
   "cell_type": "code",
   "execution_count": 51,
   "id": "679f1649",
   "metadata": {},
   "outputs": [],
   "source": [
    "vertex_eff = ([(vertex_eff_dats[0] / vertex_eff_dats[1])*100, (vertex_eff_dats[2] / vertex_eff_dats[3])*100, (vertex_eff_dats[4] / vertex_eff_dats[5])*100])"
   ]
  },
  {
   "cell_type": "code",
   "execution_count": 52,
   "id": "e6464030",
   "metadata": {},
   "outputs": [
    {
     "data": {
      "text/plain": [
       "array([99.44, 52.54, 50.99])"
      ]
     },
     "execution_count": 52,
     "metadata": {},
     "output_type": "execute_result"
    }
   ],
   "source": [
    "np.round(vertex_eff,2)"
   ]
  },
  {
   "cell_type": "code",
   "execution_count": 53,
   "id": "b559ce9f",
   "metadata": {},
   "outputs": [
    {
     "data": {
      "text/plain": [
       "99.44265686049184"
      ]
     },
     "execution_count": 53,
     "metadata": {},
     "output_type": "execute_result"
    }
   ],
   "source": [
    "(vertex_eff_dats[0] / vertex_eff_dats[1])*100"
   ]
  },
  {
   "cell_type": "markdown",
   "id": "2800a220",
   "metadata": {},
   "source": [
    "# Cumulative Efficiency"
   ]
  },
  {
   "cell_type": "code",
   "execution_count": 54,
   "id": "fc020d1b",
   "metadata": {},
   "outputs": [],
   "source": [
    "cum_eff_dats = vertex_eff_dats + top_eff_dats"
   ]
  },
  {
   "cell_type": "code",
   "execution_count": 55,
   "id": "2b390abb",
   "metadata": {},
   "outputs": [
    {
     "data": {
      "text/plain": [
       "array([   25500,    25648,  9728790, 15477728,    87855,   146524])"
      ]
     },
     "execution_count": 55,
     "metadata": {},
     "output_type": "execute_result"
    }
   ],
   "source": [
    "cum_eff_dats"
   ]
  },
  {
   "cell_type": "code",
   "execution_count": 56,
   "id": "b8115845",
   "metadata": {},
   "outputs": [],
   "source": [
    "cum_eff = ([(cum_eff_dats[0] / cum_eff_dats[1])*100, (cum_eff_dats[2] / cum_eff_dats[3])*100, (cum_eff_dats[4] / cum_eff_dats[5])*100])"
   ]
  },
  {
   "cell_type": "code",
   "execution_count": 57,
   "id": "b249c150",
   "metadata": {},
   "outputs": [
    {
     "data": {
      "text/plain": [
       "array([99.42, 62.86, 59.96])"
      ]
     },
     "execution_count": 57,
     "metadata": {},
     "output_type": "execute_result"
    }
   ],
   "source": [
    "np.round(cum_eff,2)"
   ]
  },
  {
   "cell_type": "markdown",
   "id": "efb7c1ca",
   "metadata": {},
   "source": [
    "# Summary Tables"
   ]
  },
  {
   "cell_type": "code",
   "execution_count": 86,
   "id": "3ddb720c",
   "metadata": {},
   "outputs": [],
   "source": [
    "table_eff_data_run2 = [['Selection', '%Signal Retained', '%Combinatorial bkg lost', '%Minbias bkg lost'],\n",
    "              ['Track Variables', 97.20, 76.88, 91.64],\n",
    "              ['Vertexing', 93.62, 99.61, 99.83],\n",
    "              ['Cumulative (Track + Vert.)', 90.93, 99.85, 99.98]]"
   ]
  },
  {
   "cell_type": "code",
   "execution_count": 87,
   "id": "fd9c36ad",
   "metadata": {},
   "outputs": [],
   "source": [
    "with open('run2_cumul_fixed.tex', 'w') as f:\n",
    "    f.write(tabulate(table_eff_data_run2, headers = 'firstrow', tablefmt = 'latex'))"
   ]
  },
  {
   "cell_type": "code",
   "execution_count": 2,
   "id": "f35dab7d",
   "metadata": {},
   "outputs": [],
   "source": [
    "vertexing_and_run2_eff_table = [['Selection', '%Signal Retained', '%Combinatorial bkg lost', '%Minbias bkg lost'],\n",
    "              ['Track Variables', 68.78, 96.93, 99.20],\n",
    "              ['Vertexing', 66.25, 99.95, 99.98],\n",
    "              ['Cumulative (Track + Vert.)', 64.34, 99.98, 99.99]]"
   ]
  },
  {
   "cell_type": "code",
   "execution_count": 3,
   "id": "8144695d",
   "metadata": {},
   "outputs": [],
   "source": [
    "with open('Vrun2_cumul_fixed.tex', 'w') as f:\n",
    "    f.write(tabulate(vertexing_and_run2_eff_table, headers = 'firstrow', tablefmt = 'latex'))"
   ]
  },
  {
   "cell_type": "code",
   "execution_count": null,
   "id": "96da3269",
   "metadata": {},
   "outputs": [],
   "source": []
  },
  {
   "cell_type": "code",
   "execution_count": 96,
   "id": "cc5325f2",
   "metadata": {},
   "outputs": [
    {
     "ename": "NameError",
     "evalue": "name 'cut_func_ppl_info' is not defined",
     "output_type": "error",
     "traceback": [
      "\u001b[0;31m---------------------------------------------------------------------------\u001b[0m",
      "\u001b[0;31mNameError\u001b[0m                                 Traceback (most recent call last)",
      "\u001b[0;32m/tmp/ipykernel_520/3145459480.py\u001b[0m in \u001b[0;36m<module>\u001b[0;34m\u001b[0m\n\u001b[1;32m      1\u001b[0m \u001b[0;32mfor\u001b[0m \u001b[0mi\u001b[0m\u001b[0;34m,\u001b[0m\u001b[0md\u001b[0m \u001b[0;32min\u001b[0m \u001b[0menumerate\u001b[0m\u001b[0;34m(\u001b[0m\u001b[0mp_cut_var\u001b[0m\u001b[0;34m)\u001b[0m\u001b[0;34m:\u001b[0m\u001b[0;34m\u001b[0m\u001b[0;34m\u001b[0m\u001b[0m\n\u001b[0;32m----> 2\u001b[0;31m          \u001b[0mprint\u001b[0m\u001b[0;34m(\u001b[0m\u001b[0mcut_func_ppl_info\u001b[0m\u001b[0;34m(\u001b[0m\u001b[0md\u001b[0m\u001b[0;34m,\u001b[0m\u001b[0mp_min\u001b[0m\u001b[0;34m[\u001b[0m\u001b[0mi\u001b[0m\u001b[0;34m]\u001b[0m\u001b[0;34m,\u001b[0m \u001b[0mp_max\u001b[0m\u001b[0;34m[\u001b[0m\u001b[0mi\u001b[0m\u001b[0;34m]\u001b[0m\u001b[0;34m)\u001b[0m\u001b[0;34m)\u001b[0m\u001b[0;34m\u001b[0m\u001b[0;34m\u001b[0m\u001b[0m\n\u001b[0m\u001b[1;32m      3\u001b[0m \u001b[0;34m\u001b[0m\u001b[0m\n",
      "\u001b[0;31mNameError\u001b[0m: name 'cut_func_ppl_info' is not defined"
     ]
    }
   ],
   "source": [
    "\n",
    "for i,d in enumerate(p_cut_var):\n",
    "         print(cut_func_ppl_info(d,p_min[i], p_max[i]))\n",
    "        "
   ]
  },
  {
   "cell_type": "code",
   "execution_count": null,
   "id": "99351496",
   "metadata": {},
   "outputs": [],
   "source": []
  },
  {
   "cell_type": "code",
   "execution_count": 108,
   "id": "709a24f4",
   "metadata": {},
   "outputs": [],
   "source": [
    "pion_data = []\n",
    "for i,d in enumerate(pi_cut_var):\n",
    "    pion_data.append(cut_func(d,pi_min[i],pi_max[i]))"
   ]
  },
  {
   "cell_type": "code",
   "execution_count": 109,
   "id": "0b4522fe",
   "metadata": {},
   "outputs": [
    {
     "data": {
      "text/plain": [
       "array([[99.55,  0.7 ,  0.71],\n",
       "       [98.54,  2.58,  2.99],\n",
       "       [99.55, 32.68, 63.35]])"
      ]
     },
     "execution_count": 109,
     "metadata": {},
     "output_type": "execute_result"
    }
   ],
   "source": [
    "np.round(pion_data,2)"
   ]
  },
  {
   "cell_type": "code",
   "execution_count": 113,
   "id": "822045b9",
   "metadata": {},
   "outputs": [],
   "source": [
    "lamda0_data =[]\n",
    "for i,d in enumerate(lamda0_cut_var):\n",
    "    lamda0_data.append(cut_func(d, lamda0_min[i], lamda0_max[i]))"
   ]
  },
  {
   "cell_type": "code",
   "execution_count": 114,
   "id": "a7d4c958",
   "metadata": {},
   "outputs": [
    {
     "data": {
      "text/plain": [
       "array([[100.  ,   4.44,   5.93],\n",
       "       [100.  ,  60.44,  61.11],\n",
       "       [100.  ,  26.45,  23.92],\n",
       "       [ 99.89,  81.23,  80.4 ],\n",
       "       [100.  ,  17.89,  10.59],\n",
       "       [ 97.76,  61.88,  62.97],\n",
       "       [ 99.66,  57.  ,  62.29],\n",
       "       [ 99.89,  78.14,  79.82],\n",
       "       [100.  ,  61.77,  66.09],\n",
       "       [ 99.78,  70.15,  78.35],\n",
       "       [100.  ,  10.72,  12.98]])"
      ]
     },
     "execution_count": 114,
     "metadata": {},
     "output_type": "execute_result"
    }
   ],
   "source": [
    "np.round(lamda0_data,2)"
   ]
  },
  {
   "cell_type": "code",
   "execution_count": 178,
   "id": "abcc5e2f",
   "metadata": {},
   "outputs": [],
   "source": [
    "lb_data =[]\n",
    "for i,d in enumerate(lb_cut_var):\n",
    "    lb_data.append(cut_func(d, lb_min[i], lb_max[i]))"
   ]
  },
  {
   "cell_type": "code",
   "execution_count": 179,
   "id": "89868bee",
   "metadata": {},
   "outputs": [
    {
     "data": {
      "text/plain": [
       "array([[ 99.78,   3.79,  18.92],\n",
       "       [ 99.22,  37.27,  54.23],\n",
       "       [100.  ,  31.44,  43.34],\n",
       "       [ 99.33,  73.8 ,  68.99],\n",
       "       [ 99.33,  67.31,  69.21],\n",
       "       [ 98.77,  86.04,  85.85],\n",
       "       [ 99.22,   1.87,   4.85],\n",
       "       [ 98.54,  18.71,  15.88]])"
      ]
     },
     "execution_count": 179,
     "metadata": {},
     "output_type": "execute_result"
    }
   ],
   "source": [
    "np.round(lb_data,2)"
   ]
  },
  {
   "cell_type": "code",
   "execution_count": 110,
   "id": "1d1e6be5",
   "metadata": {},
   "outputs": [
    {
     "data": {
      "text/plain": [
       "array([[99.55,  0.7 ,  0.71],\n",
       "       [98.54,  2.58,  2.99],\n",
       "       [99.55, 32.68, 63.35]])"
      ]
     },
     "execution_count": 110,
     "metadata": {},
     "output_type": "execute_result"
    }
   ],
   "source": [
    "np.round(pion_data,2)"
   ]
  },
  {
   "cell_type": "code",
   "execution_count": null,
   "id": "16c2755c",
   "metadata": {},
   "outputs": [],
   "source": []
  },
  {
   "cell_type": "code",
   "execution_count": 111,
   "id": "b5ec88f6",
   "metadata": {},
   "outputs": [],
   "source": [
    "table_data_top = [['Selection', '%Signal Retained','%Combinatorial bkg lost', '%Minbias bkg lost'],\n",
    "              ['p_plus_PID_P > -10', 99.55,   6.59,   0.36],\n",
    "              ['p_plus_PID_K > -10', 100.  ,   6.46,   0.34],\n",
    "              ['p_plus_P > 10 GeV', 100.  ,  37.26,  40.03],\n",
    "              ['p_plus_PT > 400 MeV', 99.89,  17.28,  16.81],\n",
    "              ['2 < p_plus_ETA < 5', 99.78,   3.62,   3.55],\n",
    "              ['p_plus_GHOSTPROB < 0.4', 99.89,  32.22,  61.79],\n",
    "              ['pi_minus_PT > 75 MeV',99.55,  0.7 ,  0.71],\n",
    "              ['2 < pi_minus_ETA < 5',98.54,  2.58,  2.99],\n",
    "              ['pi_minus_GHOSTPROB < 0.4',99.55, 32.68, 63.35]]\n",
    "              \n",
    " \n",
    " \n",
    " \n",
    " \n",
    " \n",
    " \n",
    " \n",
    " \n",
    "\n",
    " \n",
    "              \n",
    "              \n",
    "             "
   ]
  },
  {
   "cell_type": "code",
   "execution_count": 73,
   "id": "122f8d0b",
   "metadata": {},
   "outputs": [
    {
     "data": {
      "text/plain": [
       "array([[ 98.88,  30.  ,  36.55],\n",
       "       [ 99.22,  37.27,  54.23],\n",
       "       [100.  ,  31.44,  43.34],\n",
       "       [ 99.33,  73.8 ,  68.99],\n",
       "       [ 99.33,  67.31,  69.21],\n",
       "       [ 98.77,  86.04,  85.85],\n",
       "       [ 98.32,   3.3 ,   8.1 ],\n",
       "       [ 98.54,  18.71,  15.88]])"
      ]
     },
     "execution_count": 73,
     "metadata": {},
     "output_type": "execute_result"
    }
   ],
   "source": [
    "np.round(lb_data,2)"
   ]
  },
  {
   "cell_type": "code",
   "execution_count": 115,
   "id": "90d7dde5",
   "metadata": {},
   "outputs": [],
   "source": [
    "table_data_lam = [['Selection', '%Signal Retained','%Combinatorial bkg lost', '%Minbias bkg lost'],\n",
    "              ['2 < Lambda0_ETA < 5',100.  ,   4.44,   5.9],\n",
    "              ['Lambda0_BPVDIRA > 0.9995',100.  ,  60.44,  61.1],\n",
    "              ['Lambda0_BPVFD > 4000',100.  ,  26.45,  23.9],\n",
    "              ['Lambda0_BPVIP < 100',99.89,  81.23,  80.4],\n",
    "              ['Lambda0_BPVVDRHO > 80',100.  ,  17.89,  10.5],\n",
    "              ['Lamda0_BPVIPCHI2 < 200',97.76,  61.88,  62.97],\n",
    "              ['600 MeV < Lambda0_MASS < 1500 MeV',99.66,  57.  ,  62.29],\n",
    "              ['Lambda0_MAXSDOCA < 50',99.89,  78.14,  79.82],\n",
    "              ['Lambda0_MAXSDOCACHI2 < 1000',100.  ,  61.77,  66.09],\n",
    "              ['Lambda0_CHI2 < 150', 99.78,  70.15,  78.35],\n",
    "              ['Lambda0_P > 10 GeV',100.  ,  10.72,  12.98],\n",
    "              ['Lb_BPVDIRA > 0.985',99.78,   3.79,  18.92],\n",
    "              ['Lb_BPVIP < 0.2',99.22,  37.27,  54.23],\n",
    "              ['Lb_BPVIPCHI2 < 150',100.  ,  31.44,  43.34],\n",
    "              ['Lb_MAXSDOCA < 50',99.33,  73.8 ,  68.99],\n",
    "              ['Lb_MAXSDOCACHI2 < 30',99.33,  67.31,  69.21],\n",
    "              ['Lb_CHI2 < 50', 98.77,  86.04,  85.85],\n",
    "              ['Lb_PT > 600 MeV', 99.22,   1.87,   4.85],\n",
    "              ['4e3 < Lb_MASS < 8e3',98.54,  18.71,  15.88]]"
   ]
  },
  {
   "cell_type": "code",
   "execution_count": 83,
   "id": "0686bf44",
   "metadata": {},
   "outputs": [
    {
     "ename": "NameError",
     "evalue": "name 'table_data' is not defined",
     "output_type": "error",
     "traceback": [
      "\u001b[0;31m---------------------------------------------------------------------------\u001b[0m",
      "\u001b[0;31mNameError\u001b[0m                                 Traceback (most recent call last)",
      "\u001b[0;32m/tmp/ipykernel_518/2192450220.py\u001b[0m in \u001b[0;36m<module>\u001b[0;34m\u001b[0m\n\u001b[0;32m----> 1\u001b[0;31m \u001b[0mtabulate\u001b[0m\u001b[0;34m(\u001b[0m\u001b[0mtable_data\u001b[0m\u001b[0;34m,\u001b[0m \u001b[0mheaders\u001b[0m \u001b[0;34m=\u001b[0m \u001b[0;34m'firstrow'\u001b[0m\u001b[0;34m)\u001b[0m\u001b[0;34m\u001b[0m\u001b[0;34m\u001b[0m\u001b[0m\n\u001b[0m",
      "\u001b[0;31mNameError\u001b[0m: name 'table_data' is not defined"
     ]
    }
   ],
   "source": [
    "tabulate(table_data, headers = 'firstrow')"
   ]
  },
  {
   "cell_type": "code",
   "execution_count": 116,
   "id": "577d2be8",
   "metadata": {},
   "outputs": [],
   "source": [
    "with open('run2_vert_fixed.tex', 'w') as f:\n",
    "    f.write(tabulate(table_data_lam, headers = 'firstrow', tablefmt = 'latex'))"
   ]
  },
  {
   "cell_type": "code",
   "execution_count": null,
   "id": "02ecec4e",
   "metadata": {},
   "outputs": [],
   "source": []
  },
  {
   "cell_type": "markdown",
   "id": "da6d5330",
   "metadata": {},
   "source": [
    "# Without $\\Lambda_b$"
   ]
  },
  {
   "cell_type": "code",
   "execution_count": 84,
   "id": "629117ff",
   "metadata": {},
   "outputs": [],
   "source": [
    "def cut_func_ppl(data, xmin, xmax):\n",
    "    \n",
    "    comb_cut_ppl = []\n",
    "    for val in bkg_data_ppl[data]:\n",
    "        if val > xmin and val < xmax:\n",
    "            comb_cut_ppl.append(val)\n",
    "        \n",
    "    \n",
    "        \n",
    "    minbias_cut = []\n",
    "    for val in minbias_data[data]:\n",
    "        if val > xmin and val < xmax:\n",
    "            minbias_cut.append(val)\n",
    "    \n",
    "    signal_cut_ppl = []\n",
    "    for val in signal_data_ppl[data]:\n",
    "        if val > xmin and val < xmax:\n",
    "            signal_cut_ppl.append(val)\n",
    "\n",
    "    \n",
    "    kept_signal_ppl = len(signal_cut_ppl) / len(signal_data_ppl[data]) *100\n",
    "    events_lost_ppl = abs(len(signal_cut_ppl) - len(signal_data_ppl[data]))\n",
    "    comb_bkg_percut_ppl = abs(100-(len(comb_cut_ppl) / len(bkg_data_ppl[data]) *100))\n",
    "    comb_bkg_lost_ppl = abs(len(comb_cut_ppl) - len(bkg_data_ppl[data]))\n",
    "    minbias_bkg_percut = abs(100-(len(minbias_cut) / len(minbias_data[data])*100))\n",
    "    minbias_bkg_lost = abs(len(minbias_cut) - len(minbias_data[data]))\n",
    "    #info = [kept_signal, events_lost, comb_bkg_kept, comb_bkg_lost, minbias_bkg_kept, minbias_bkg_lost]\n",
    "    #signal_info = f' We have kept {kept_signal:.2f}% of the signal with this cut and have lost {events_lost:.2f} signal events'\n",
    "    #comb_bkg_info = f' We have lost {abs(100-comb_bkg_kept):.2f}% of the combinatorial background with this cut and have lost {comb_bkg_lost:.2f} events'\n",
    "    #minbias_info = f' We have lost {abs(100-minbias_bkg_kept):.2f}% of the minbias background with this cut and have lost {minbias_bkg_lost:.2f} events'\n",
    "    \n",
    "    #summary_info = f' For the {data} cut, {kept_signal:.2f}% of signal was retained, {comb_bkg_percut:.2f}% of the combinatorial background was removed, and {minbias_bkg_percut:.2f}% of the minimum bias background was removed.'\n",
    "    data_info_ppl = [kept_signal_ppl, events_lost_ppl, comb_bkg_percut_ppl, minbias_bkg_percut]\n",
    "    \n",
    "    return data_info_ppl"
   ]
  },
  {
   "cell_type": "code",
   "execution_count": 85,
   "id": "336c3023",
   "metadata": {},
   "outputs": [],
   "source": [
    "def cut_func_ppl_info(data, xmin, xmax):\n",
    "    \n",
    "    comb_cut_ppl = []\n",
    "    for val in bkg_data_ppl[data]:\n",
    "        if val > xmin and val < xmax:\n",
    "            comb_cut_ppl.append(val)\n",
    "        \n",
    "    \n",
    "        \n",
    "    minbias_cut = []\n",
    "    for val in minbias_data[data]:\n",
    "        if val > xmin and val < xmax:\n",
    "            minbias_cut.append(val)\n",
    "    \n",
    "    signal_cut_ppl = []\n",
    "    for val in signal_data_ppl[data]:\n",
    "        if val > xmin and val < xmax:\n",
    "            signal_cut_ppl.append(val)\n",
    "\n",
    "    \n",
    "    kept_signal_ppl = len(signal_cut_ppl) / len(signal_data_ppl[data]) *100\n",
    "    events_lost_ppl = abs(len(signal_cut_ppl) - len(signal_data_ppl[data]))\n",
    "    comb_bkg_percut_ppl = abs(100-(len(comb_cut_ppl) / len(bkg_data_ppl[data]) *100))\n",
    "    comb_bkg_lost_ppl = abs(len(comb_cut_ppl) - len(bkg_data_ppl[data]))\n",
    "    minbias_bkg_percut = abs(100-(len(minbias_cut) / len(minbias_data[data])*100))\n",
    "    minbias_bkg_lost = abs(len(minbias_cut) - len(minbias_data[data]))\n",
    "    #info = [kept_signal, events_lost, comb_bkg_kept, comb_bkg_lost, minbias_bkg_kept, minbias_bkg_lost]\n",
    "    #signal_info = f' We have kept {kept_signal:.2f}% of the signal with this cut and have lost {events_lost:.2f} signal events'\n",
    "    #comb_bkg_info = f' We have lost {abs(100-comb_bkg_kept):.2f}% of the combinatorial background with this cut and have lost {comb_bkg_lost:.2f} events'\n",
    "    #minbias_info = f' We have lost {abs(100-minbias_bkg_kept):.2f}% of the minbias background with this cut and have lost {minbias_bkg_lost:.2f} events'\n",
    "    \n",
    "    #summary_info = f' For the {data} cut, {kept_signal:.2f}% of signal was retained, {comb_bkg_percut:.2f}% of the combinatorial background was removed, and {minbias_bkg_percut:.2f}% of the minimum bias background was removed.'\n",
    "    data_info_ppl = [kept_signal_ppl, events_lost_ppl, comb_bkg_percut_ppl, minbias_bkg_percut]\n",
    "    \n",
    "    return data_info_ppl"
   ]
  },
  {
   "cell_type": "code",
   "execution_count": 86,
   "id": "e0cbd8ef",
   "metadata": {},
   "outputs": [],
   "source": [
    "proton_data_ppl=[]\n",
    "for i,d in enumerate(p_cut_var):\n",
    "    proton_data_ppl.append(cut_func_ppl(d,p_min[i], p_max[i]))\n",
    "\n"
   ]
  },
  {
   "cell_type": "code",
   "execution_count": 87,
   "id": "e6aa704e",
   "metadata": {},
   "outputs": [
    {
     "data": {
      "text/plain": [
       "array([[ 99.52,   8.  ,   6.6 ,   0.38],\n",
       "       [ 99.88,   2.  ,   6.44,   0.42],\n",
       "       [100.  ,   0.  ,  31.07,  34.11],\n",
       "       [ 99.15,  14.  ,  16.41,  13.17],\n",
       "       [ 98.97,  17.  ,   3.59,   2.85],\n",
       "       [ 99.7 ,   5.  ,  34.4 ,  67.51]])"
      ]
     },
     "execution_count": 87,
     "metadata": {},
     "output_type": "execute_result"
    }
   ],
   "source": [
    "np.round(proton_data_ppl,2)"
   ]
  },
  {
   "cell_type": "code",
   "execution_count": 88,
   "id": "d37cdabe",
   "metadata": {},
   "outputs": [],
   "source": [
    "pion_data_ppl = []\n",
    "for i,d in enumerate(pi_cut_var):\n",
    "    pion_data_ppl.append(cut_func_ppl(d,pi_min[i],pi_max[i]))"
   ]
  },
  {
   "cell_type": "code",
   "execution_count": 89,
   "id": "28685aba",
   "metadata": {},
   "outputs": [
    {
     "data": {
      "text/plain": [
       "array([[96.25, 62.  ,  2.8 ,  2.33],\n",
       "       [97.82, 36.  ,  2.61,  2.12],\n",
       "       [99.21, 13.  , 34.43, 67.09]])"
      ]
     },
     "execution_count": 89,
     "metadata": {},
     "output_type": "execute_result"
    }
   ],
   "source": [
    "np.round(pion_data_ppl,2)"
   ]
  },
  {
   "cell_type": "code",
   "execution_count": 90,
   "id": "83fa990b",
   "metadata": {},
   "outputs": [],
   "source": [
    "lamda0_data_ppl = []\n",
    "for i,d in enumerate(lamda0_cut_var):\n",
    "    lamda0_data_ppl.append(cut_func_ppl(d, lamda0_min[i],lamda0_max[i]))"
   ]
  },
  {
   "cell_type": "code",
   "execution_count": 91,
   "id": "1d706b11",
   "metadata": {},
   "outputs": [
    {
     "data": {
      "text/plain": [
       "array([[100.  ,   0.  ,   3.68,   4.7 ],\n",
       "       [ 99.64,   6.  ,  62.67,  60.06],\n",
       "       [100.  ,   0.  ,  28.28,  27.9 ],\n",
       "       [ 98.49,  25.  ,  82.55,  79.55],\n",
       "       [ 99.88,   2.  ,  16.66,  11.31],\n",
       "       [ 97.09,  48.  ,  66.93,  69.06],\n",
       "       [ 99.21,  13.  ,  61.6 ,  64.8 ],\n",
       "       [ 99.88,   2.  ,  78.11,  79.27],\n",
       "       [100.  ,   0.  ,  61.53,  64.8 ],\n",
       "       [ 99.46,   9.  ,  70.92,  77.57],\n",
       "       [100.  ,   0.  ,   6.92,   9.33]])"
      ]
     },
     "execution_count": 91,
     "metadata": {},
     "output_type": "execute_result"
    }
   ],
   "source": [
    "np.round(lamda0_data_ppl,2)"
   ]
  },
  {
   "cell_type": "code",
   "execution_count": 92,
   "id": "80b61375",
   "metadata": {},
   "outputs": [],
   "source": [
    "table_data_ppl_top = [['Selection', '%Signal Retained', 'Signal events lost', '%Combinatorial bkg lost', '%Minbias bkg lost'],\n",
    "              ['p_plus_PID_P > -10', 99.52,   8.  ,   6.6 ,   0.38],\n",
    "              ['p_plus_PID_K > -10', 99.88,   2.  ,   6.44,   0.42],\n",
    "              ['p_plus_P > 10 GeV', 100.  ,   0.  ,  31.07,  34.11],\n",
    "              ['p_plus_PT > 2 GeV', 99.15,  14.  ,  16.41,  13.17],\n",
    "              ['2 < p_plus_ETA < 5', 98.97,  17.  ,   3.59,   2.85],\n",
    "              ['p_plus_NFTHITS > 10', 94.67,  88.  ,  51.69,  66.98],\n",
    "              ['p_plus_GHOSTPROB < 0.4',99.7 ,   5.  ,  34.4 ,  67.51],\n",
    "              ['pi_minus_PT > 150 MeV',96.25,  62.  ,   2.8 ,   2.33],\n",
    "              ['2 < pi_minus_ETA < 5',97.82,  36.  ,   2.61,   2.12],\n",
    "              ['pi_minus_GHOSTPROB < 0.4',99.21,  13.  ,  34.43,  67.09]]\n",
    "              \n",
    "              \n",
    " \n",
    " \n",
    " \n",
    " \n",
    " \n",
    " \n",
    " \n",
    " \n",
    "\n"
   ]
  },
  {
   "cell_type": "code",
   "execution_count": 93,
   "id": "e604bf71",
   "metadata": {},
   "outputs": [],
   "source": [
    "table_data_ppl_lam = [\n",
    "              ['2 < Lambda0_ETA < 5',100.  ,   0.  ,   3.68,   4.7],\n",
    "              ['Lambda0_BPVDIRA > 0.9995',99.64,   6.  ,  62.67,  60.06],\n",
    "              ['Lambda0_BPVFD > 4000',100.  ,   0.  ,  28.28,  27.9 ],\n",
    "              ['Lambda0_BPVIP < 100',98.49,  25.  ,  82.55,  79.55],\n",
    "              ['Lambda0_BPVVDRHO > 80',99.88,   2.  ,  16.66,  11.31],\n",
    "              ['Lamda0_BPVIPCHI2 < 200',97.09,  48.  ,  66.93,  69.06],\n",
    "              ['600 MeV < Lambda0_MASS < 1500 MeV',99.21,  13.  ,  61.6 ,  64.8],\n",
    "              ['Lambda0_MAXSDOCA < 50',99.88,   2.  ,  78.11,  79.27],\n",
    "              ['Lambda0_MAXSDOCACHI2 < 1000',100.  ,   0.  ,  61.53,  64.8],\n",
    "              ['Lambda0_CHI2 < 150',99.46,   9.  ,  70.92,  77.57],\n",
    "              ['Lambda0_P > 10 GeV',100.  ,   0.  ,   6.92,   9.33]]"
   ]
  },
  {
   "cell_type": "code",
   "execution_count": 94,
   "id": "74fd392b",
   "metadata": {},
   "outputs": [],
   "source": [
    "with open('top_truel0.tex', 'w') as f:\n",
    "    f.write(tabulate(table_data_ppl_top, headers = 'firstrow', tablefmt = 'latex'))"
   ]
  },
  {
   "cell_type": "code",
   "execution_count": 95,
   "id": "4e182184",
   "metadata": {},
   "outputs": [],
   "source": [
    "with open('lam0_truel0.tex', 'w') as f:\n",
    "    f.write(tabulate(table_data_ppl_lam, headers = 'firstrow', tablefmt = 'latex'))"
   ]
  },
  {
   "cell_type": "code",
   "execution_count": 96,
   "id": "94803566",
   "metadata": {},
   "outputs": [],
   "source": [
    "with open('top_truelb.tex', 'w') as f:\n",
    "    f.write(tabulate(table_data_top, headers = 'firstrow', tablefmt = 'latex'))"
   ]
  },
  {
   "cell_type": "code",
   "execution_count": 97,
   "id": "b8978c2b",
   "metadata": {},
   "outputs": [],
   "source": [
    "with open('lam_truelb.tex', 'w') as f:\n",
    "    f.write(tabulate(table_data_lam, headers = 'firstrow', tablefmt = 'latex'))"
   ]
  },
  {
   "cell_type": "markdown",
   "id": "006b33b2",
   "metadata": {},
   "source": [
    "# Efficiencies"
   ]
  },
  {
   "cell_type": "code",
   "execution_count": null,
   "id": "79e96220",
   "metadata": {},
   "outputs": [],
   "source": [
    "pp_"
   ]
  },
  {
   "cell_type": "code",
   "execution_count": null,
   "id": "6cf8b8a7",
   "metadata": {},
   "outputs": [],
   "source": []
  },
  {
   "cell_type": "code",
   "execution_count": null,
   "id": "0aa1c8f5",
   "metadata": {},
   "outputs": [],
   "source": []
  },
  {
   "cell_type": "code",
   "execution_count": null,
   "id": "15ceb63d",
   "metadata": {},
   "outputs": [],
   "source": []
  },
  {
   "cell_type": "code",
   "execution_count": null,
   "id": "bae98cb1",
   "metadata": {},
   "outputs": [],
   "source": []
  },
  {
   "cell_type": "markdown",
   "id": "72cb63b2",
   "metadata": {},
   "source": [
    "# proton PT cuts\n",
    "p_pt_cut = []\n",
    "for val in signal_data['p_plus_PT']:\n",
    "    if val > 400:\n",
    "        p_pt_cut.append(val)\n",
    "        \n",
    "p_pt_bkg_cut = []\n",
    "for val in bkg_data['p_plus_PT']:\n",
    "    if val > 400:\n",
    "        p_pt_bkg_cut.append(val)\n",
    "        \n",
    "\n",
    "p_pt_minbias_cut = []\n",
    "for val in minbias_data['p_plus_PT']:\n",
    "    if val > 400:\n",
    "        p_pt_minbias_cut.append(val)\n",
    "        \n",
    "plt.hist(p_pt_bkg_cut,bins = 30,label = 'combinatorial bkg', histtype = 'step', density = True, fill = False, edgecolor = 'red')\n",
    "plt.hist(p_pt_minbias_cut,bins = 30, label = 'minbias bkg', histtype = 'step', density = True, fill = False, edgecolor = 'blue')\n",
    "\n",
    "\n",
    "plt.hist(p_pt_cut, bins = 30, label = 'signal', histtype = 'step', density = True, fill = False, edgecolor = 'green')\n",
    "\n",
    "\n",
    "\n",
    "\n",
    "plt.legend(loc = 'upper right')\n",
    "plt.title('Proton PT')"
   ]
  },
  {
   "cell_type": "code",
   "execution_count": 9,
   "id": "91b3495e",
   "metadata": {},
   "outputs": [],
   "source": [
    "kept_signal_pt = len(p_pt_cut) / len(signal_data['p_plus_PT'])\n",
    "events_lost_pt = abs(len(p_pt_cut) - len(signal_data['p_plus_PT']))\n",
    "comb_bkg_kept_pt = len(p_pt_bkg_cut) / len(bkg_data['p_plus_PT'])\n",
    "comb_bkg_lost_pt = abs(len(p_pt_bkg_cut) - len(bkg_data['p_plus_PT']))"
   ]
  },
  {
   "cell_type": "code",
   "execution_count": 10,
   "id": "9b971a71",
   "metadata": {},
   "outputs": [
    {
     "data": {
      "text/plain": [
       "' We have kept 99.15% of the signal with this cut and have lost 14.00 signal events'"
      ]
     },
     "execution_count": 10,
     "metadata": {},
     "output_type": "execute_result"
    }
   ],
   "source": [
    "f' We have kept {kept_signal_pt* 100:.2f}% of the signal with this cut and have lost {events_lost_pt:.2f} signal events'"
   ]
  },
  {
   "cell_type": "code",
   "execution_count": 11,
   "id": "c43e5b4a",
   "metadata": {},
   "outputs": [
    {
     "data": {
      "text/plain": [
       "' We have lost 16.41% of the combinatorial background with this cut and have lost 90574.00 events'"
      ]
     },
     "execution_count": 11,
     "metadata": {},
     "output_type": "execute_result"
    }
   ],
   "source": [
    "f' We have lost {abs(100-comb_bkg_kept_pt* 100):.2f}% of the combinatorial background with this cut and have lost {comb_bkg_lost_pt:.2f} events'"
   ]
  },
  {
   "cell_type": "code",
   "execution_count": 12,
   "id": "c62bc62c",
   "metadata": {},
   "outputs": [],
   "source": [
    "minbias_bkg_kept_pt = len(p_pt_minbias_cut) / len(minbias_data['p_plus_PT'])\n",
    "minbias_bkg_lost_pt = abs(len(p_pt_minbias_cut) - len(minbias_data['p_plus_PT']))"
   ]
  },
  {
   "cell_type": "code",
   "execution_count": 13,
   "id": "bee90b01",
   "metadata": {},
   "outputs": [
    {
     "data": {
      "text/plain": [
       "' We have lost 13.17% of the minbias background with this cut and have lost 689.00 events'"
      ]
     },
     "execution_count": 13,
     "metadata": {},
     "output_type": "execute_result"
    }
   ],
   "source": [
    "f' We have lost {abs(100-minbias_bkg_kept_pt* 100):.2f}% of the minbias background with this cut and have lost {minbias_bkg_lost_pt:.2f} events'"
   ]
  },
  {
   "cell_type": "markdown",
   "id": "5b1ea526",
   "metadata": {},
   "source": [
    "# Momentum cut"
   ]
  },
  {
   "cell_type": "code",
   "execution_count": 14,
   "id": "8864a44f",
   "metadata": {},
   "outputs": [
    {
     "data": {
      "text/plain": [
       "Text(0.5, 1.0, 'Proton Momentum')"
      ]
     },
     "execution_count": 14,
     "metadata": {},
     "output_type": "execute_result"
    },
    {
     "data": {
      "image/png": "[encoded data removed]",
      "text/plain": [
       "<Figure size 432x288 with 1 Axes>"
      ]
     },
     "metadata": {
      "needs_background": "light"
     },
     "output_type": "display_data"
    }
   ],
   "source": [
    "p_p_cut = []\n",
    "for val in signal_data['p_plus_P']:\n",
    "    if val > 10000:\n",
    "        p_p_cut.append(val)\n",
    "        \n",
    "p_p_bkg_cut = []\n",
    "for val in bkg_data['p_plus_P']:\n",
    "    if val > 10000:\n",
    "        p_p_bkg_cut.append(val)\n",
    "        \n",
    "\n",
    "p_p_minbias_cut = []\n",
    "for val in minbias_data['p_plus_P']:\n",
    "    if val > 10000:\n",
    "        p_p_minbias_cut.append(val)\n",
    "        \n",
    "plt.hist(p_p_bkg_cut,bins = 30,label = 'combinatorial bkg', histtype = 'step', density = True, fill = False, edgecolor = 'red')\n",
    "plt.hist(p_p_minbias_cut,bins = 30, label = 'minbias bkg', histtype = 'step', density = True, fill = False, edgecolor = 'blue')\n",
    "\n",
    "\n",
    "plt.hist(p_p_cut, bins = 30, label = 'signal', histtype = 'step', density = True, fill = False, edgecolor = 'green')\n",
    "\n",
    "\n",
    "\n",
    "plt.legend(loc = 'upper right')\n",
    "plt.title('Proton Momentum')"
   ]
  },
  {
   "cell_type": "code",
   "execution_count": 15,
   "id": "cb61d61e",
   "metadata": {},
   "outputs": [],
   "source": [
    "kept_signal_p = len(p_p_cut) / len(signal_data['p_plus_P'])\n",
    "events_lost_p = abs(len(p_p_cut) - len(signal_data['p_plus_P']))\n",
    "comb_bkg_kept_p = len(p_p_bkg_cut) / len(bkg_data['p_plus_P'])\n",
    "comb_bkg_lost_p = abs(len(p_p_bkg_cut) - len(bkg_data['p_plus_P']))\n",
    "minbias_bkg_kept_p = len(p_p_minbias_cut) / len(minbias_data['p_plus_P'])\n",
    "minbias_bkg_lost_p = abs(len(p_p_minbias_cut) - len(minbias_data['p_plus_P']))"
   ]
  },
  {
   "cell_type": "code",
   "execution_count": 16,
   "id": "0f33a56d",
   "metadata": {},
   "outputs": [
    {
     "data": {
      "text/plain": [
       "' We have kept 100.00% of the signal with this cut and have lost 0.00 signal events'"
      ]
     },
     "execution_count": 16,
     "metadata": {},
     "output_type": "execute_result"
    }
   ],
   "source": [
    "f' We have kept {kept_signal_p* 100:.2f}% of the signal with this cut and have lost {events_lost_p:.2f} signal events'"
   ]
  },
  {
   "cell_type": "code",
   "execution_count": 17,
   "id": "83d70eb9",
   "metadata": {},
   "outputs": [
    {
     "data": {
      "text/plain": [
       "' We have lost 31.07% of the combinatorial background with this cut and have lost 171513.00 events'"
      ]
     },
     "execution_count": 17,
     "metadata": {},
     "output_type": "execute_result"
    }
   ],
   "source": [
    "f' We have lost {abs(100-comb_bkg_kept_p* 100):.2f}% of the combinatorial background with this cut and have lost {comb_bkg_lost_p:.2f} events'"
   ]
  },
  {
   "cell_type": "code",
   "execution_count": 18,
   "id": "86513b80",
   "metadata": {},
   "outputs": [
    {
     "data": {
      "text/plain": [
       "' We have lost 13.17% of the combinatorial background with this cut and have lost 689.00 events'"
      ]
     },
     "execution_count": 18,
     "metadata": {},
     "output_type": "execute_result"
    }
   ],
   "source": [
    "f' We have lost {abs(100-minbias_bkg_kept_pt* 100):.2f}% of the combinatorial background with this cut and have lost {minbias_bkg_lost_pt:.2f} events'"
   ]
  },
  {
   "cell_type": "code",
   "execution_count": null,
   "id": "41d39a1e",
   "metadata": {},
   "outputs": [],
   "source": []
  },
  {
   "cell_type": "code",
   "execution_count": null,
   "id": "5f334fd3",
   "metadata": {},
   "outputs": [],
   "source": []
  },
  {
   "cell_type": "markdown",
   "id": "99438b3d",
   "metadata": {},
   "source": [
    "# Plots w/ cuts"
   ]
  },
  {
   "cell_type": "code",
   "execution_count": 117,
   "id": "13f41d66",
   "metadata": {},
   "outputs": [
    {
     "ename": "NameError",
     "evalue": "name 'p_plus_string' is not defined",
     "output_type": "error",
     "traceback": [
      "\u001b[0;31m---------------------------------------------------------------------------\u001b[0m",
      "\u001b[0;31mNameError\u001b[0m                                 Traceback (most recent call last)",
      "\u001b[0;32m/tmp/ipykernel_518/1315709202.py\u001b[0m in \u001b[0;36m<module>\u001b[0;34m\u001b[0m\n\u001b[0;32m----> 1\u001b[0;31m \u001b[0;32mfor\u001b[0m \u001b[0mi\u001b[0m \u001b[0;32min\u001b[0m \u001b[0mrange\u001b[0m\u001b[0;34m(\u001b[0m\u001b[0mlen\u001b[0m\u001b[0;34m(\u001b[0m\u001b[0mp_plus_string\u001b[0m\u001b[0;34m)\u001b[0m\u001b[0;34m)\u001b[0m\u001b[0;34m:\u001b[0m\u001b[0;34m\u001b[0m\u001b[0;34m\u001b[0m\u001b[0m\n\u001b[0m\u001b[1;32m      2\u001b[0m     \u001b[0mtitle\u001b[0m \u001b[0;34m=\u001b[0m \u001b[0mp_plus_string\u001b[0m\u001b[0;34m[\u001b[0m\u001b[0mi\u001b[0m\u001b[0;34m]\u001b[0m\u001b[0;34m\u001b[0m\u001b[0;34m\u001b[0m\u001b[0m\n\u001b[1;32m      3\u001b[0m     \u001b[0mplot_hist\u001b[0m\u001b[0;34m(\u001b[0m\u001b[0mp_plus_bkg\u001b[0m\u001b[0;34m[\u001b[0m\u001b[0mi\u001b[0m\u001b[0;34m]\u001b[0m\u001b[0;34m,\u001b[0m \u001b[0mp_plus_sig\u001b[0m\u001b[0;34m[\u001b[0m\u001b[0mi\u001b[0m\u001b[0;34m]\u001b[0m\u001b[0;34m,\u001b[0m\u001b[0mp_plus_minbias\u001b[0m\u001b[0;34m[\u001b[0m\u001b[0mi\u001b[0m\u001b[0;34m]\u001b[0m\u001b[0;34m,\u001b[0m\u001b[0mtitle\u001b[0m\u001b[0;34m,\u001b[0m\u001b[0;34m''\u001b[0m\u001b[0;34m)\u001b[0m\u001b[0;34m\u001b[0m\u001b[0;34m\u001b[0m\u001b[0m\n\u001b[1;32m      4\u001b[0m     \u001b[0mplt\u001b[0m\u001b[0;34m.\u001b[0m\u001b[0mfigure\u001b[0m\u001b[0;34m(\u001b[0m\u001b[0;34m)\u001b[0m\u001b[0;34m\u001b[0m\u001b[0;34m\u001b[0m\u001b[0m\n",
      "\u001b[0;31mNameError\u001b[0m: name 'p_plus_string' is not defined"
     ]
    }
   ],
   "source": [
    "for i in range(len(p_cut_var)):\n",
    "    title = p_cut_var[i]\n",
    "    plot_hist(p_plus_bkg[i], p_plus_sig[i],p_plus_minbias[i],title,'')\n",
    "    plt.figure()"
   ]
  },
  {
   "cell_type": "code",
   "execution_count": null,
   "id": "5427d010",
   "metadata": {},
   "outputs": [],
   "source": []
  },
  {
   "cell_type": "code",
   "execution_count": null,
   "id": "3ec5563b",
   "metadata": {},
   "outputs": [],
   "source": []
  },
  {
   "cell_type": "code",
   "execution_count": null,
   "id": "a2965bbc",
   "metadata": {},
   "outputs": [],
   "source": []
  },
  {
   "cell_type": "code",
   "execution_count": null,
   "id": "d5ad4a86",
   "metadata": {},
   "outputs": [],
   "source": [
    "def cut_func_ppl(data, xmin, xmax):\n",
    "    \n",
    "    comb_cut_ppl = []\n",
    "    for val in bkg_data[data]:\n",
    "        if val > xmin and val < xmax:\n",
    "            comb_cut_ppl.append(val)\n",
    "        \n",
    "    \n",
    "        \n",
    "    minbias_cut_ppl = []\n",
    "    for val in minbias_data[data]:\n",
    "        if val > xmin and val < xmax:\n",
    "            minbias_cut_ppl.append(val)\n",
    "    \n",
    "    signal_cut_ppl = []\n",
    "    for val in signal_data[data]:\n",
    "        if val > xmin and val < xmax:\n",
    "            signal_cut_ppl.append(val)\n",
    "\n",
    "    \n",
    "    kept_signal_ppl = len(signal_cut) / len(signal_data[data]) *100\n",
    "    events_lost_ppl = abs(len(signal_cut) - len(signal_data[data]))\n",
    "    comb_bkg_percut_ppl = abs(100-(len(comb_cut) / len(bkg_data[data]) *100))\n",
    "    comb_bkg_lost_ppl = abs(len(comb_cut) - len(bkg_data[data]))\n",
    "    minbias_bkg_percut_ppl = abs(100-(len(minbias_cut) / len(minbias_data[data])*100))\n",
    "    minbias_bkg_lost_ppl = abs(len(minbias_cut) - len(minbias_data[data]))\n",
    "    #info = [kept_signal, events_lost, comb_bkg_kept, comb_bkg_lost, minbias_bkg_kept, minbias_bkg_lost]\n",
    "    #signal_info = f' We have kept {kept_signal:.2f}% of the signal with this cut and have lost {events_lost:.2f} signal events'\n",
    "    #comb_bkg_info = f' We have lost {abs(100-comb_bkg_kept):.2f}% of the combinatorial background with this cut and have lost {comb_bkg_lost:.2f} events'\n",
    "    #minbias_info = f' We have lost {abs(100-minbias_bkg_kept):.2f}% of the minbias background with this cut and have lost {minbias_bkg_lost:.2f} events'\n",
    "    \n",
    "    #summary_info = f' For the {data} cut, {kept_signal:.2f}% of signal was retained, {comb_bkg_percut:.2f}% of the combinatorial background was removed, and {minbias_bkg_percut:.2f}% of the minimum bias background was removed.'\n",
    "    data_info_ppl = [kept_signal_ppl, events_lost_ppl, comb_bkg_percut_ppl, minbias_bkg_percut_ppl]\n",
    "    \n",
    "    return data_info_ppl"
   ]
  }
 ],
 "metadata": {
  "kernelspec": {
   "display_name": "Python 3",
   "language": "python",
   "name": "python3"
  },
  "language_info": {
   "codemirror_mode": {
    "name": "ipython",
    "version": 3
   },
   "file_extension": ".py",
   "mimetype": "text/x-python",
   "name": "python",
   "nbconvert_exporter": "python",
   "pygments_lexer": "ipython3",
   "version": "3.9.12"
  }
 },
 "nbformat": 4,
 "nbformat_minor": 5
}
